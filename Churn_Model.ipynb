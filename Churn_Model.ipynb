{
 "cells": [
  {
   "cell_type": "markdown",
   "id": "e28c9dcf",
   "metadata": {},
   "source": [
    "# PowerCO Algorithm\n",
    "\n",
    "\n",
    "**Author:** Ingrid Cadu<br>\n",
    "**Last update:** Apr, 07, 2022<br>\n",
    "<br>\n",
    "This notebook contains the model that will evaluate the churn on PowerCo customers, and as asked It will also check the hyposthesis about the 20% off and its effects on people predicted as possible churn.<br>\n",
    "\n",
    "**Background**<br>\n",
    "- The SME team suggestions:\n",
    "        1. Feature engineering is one of the keys to unlocking predictive insight through mathematical modeling. Based on the data that is available and was cleaned, identify what you think could be drivers of churn for our client and build those features to later use in your model.\n",
    "\n",
    "        2. First focus on building on top of the feature that your colleague has already investigated: “the difference between off-peak prices in December and January the preceding year”. After this, if you have time, feel free to get creative with making any other features that you feel are worthwhile.\n",
    "\n",
    "        3. Once you have a set of features, you must train a Random Forest classifier to predict customer churn and evaluate the performance of the model with suitable evaluation metrics. Be rigorous with your approach and give full justification for any decisions made by yourself as the intern data scientist. \n",
    "\n",
    "- **Extra Task:**<br>\n",
    "    Recall that the hypotheses under consideration is that churn is driven by the customers’ price sensitivities and that it would be possible to predict customers likely to churn using a predictive model. If you’re eager to go the extra mile for the client, when you have a trained predictive model, remember to investigate the client’s proposed discounting strategy, with the head of the SME division suggesting that offering customers at high propensity to churn a 20% discount might be effective.\n",
    "\n",
    "**Prior Objective**<br>\n",
    "Build your models and test them while keeping in mind you would need data to prove/disprove the hypotheses, as well as to test the effect of a 20% discount on customers at high propensity to churn."
   ]
  },
  {
   "cell_type": "markdown",
   "id": "dcca823b",
   "metadata": {
    "heading_collapsed": true
   },
   "source": [
    "# Loading the libraries and data"
   ]
  },
  {
   "cell_type": "code",
   "execution_count": null,
   "id": "c757370c",
   "metadata": {
    "code_folding": [],
    "hidden": true
   },
   "outputs": [],
   "source": [
    "#Libraries\n",
    "#---------------------\n",
    "\n",
    "#basic\n",
    "import pandas as pd\n",
    "import numpy as np\n",
    "from collections import Counter\n",
    "import matplotlib.pyplot as plt\n",
    "import datetime as dt\n",
    "import matplotlib.pyplot as plt\n",
    "%matplotlib inline\n",
    "import seaborn as sns\n",
    "import plotly.express as px"
   ]
  },
  {
   "cell_type": "code",
   "execution_count": null,
   "id": "64511f07",
   "metadata": {
    "code_folding": [],
    "hidden": true
   },
   "outputs": [],
   "source": [
    "#Data loading\n",
    "client_df = pd.read_csv(\"client_data.csv\")\n",
    "price_df = pd.read_csv(\"price_data.csv\")"
   ]
  },
  {
   "cell_type": "markdown",
   "id": "ec7aba70",
   "metadata": {
    "heading_collapsed": true
   },
   "source": [
    "# Data Calcs"
   ]
  },
  {
   "cell_type": "code",
   "execution_count": null,
   "id": "4b95ba84",
   "metadata": {
    "code_folding": [
     0
    ],
    "hidden": true
   },
   "outputs": [],
   "source": [
    "#Let's incresing more features\n",
    "\n",
    "client_df['date_activ'] = pd.to_datetime(client_df['date_activ'], format='%Y-%m-%d')\n",
    "client_df['date_end'] = pd.to_datetime(client_df['date_end'], format='%Y-%m-%d')\n",
    "client_df['date_modif_prod'] = pd.to_datetime(client_df['date_modif_prod'], format='%Y-%m-%d')\n",
    "\n",
    "#Date\n",
    "client_df['diff_end_activ'] = client_df['date_end'].dt.day - client_df['date_activ'].dt.day\n",
    "\n",
    "#Let's add a new cons_12m -> cons_fore_12m\n",
    "client_df['cons_fore_12m'] = client_df['cons_12m'] - client_df['forecast_cons_12m']\n",
    "client_df['cons_fore_12m'] = client_df['cons_fore_12m']\n",
    "\n",
    "#Let's add a new col -> the time between renewal and end\n",
    "client_df['modify_b4_end'] = (client_df['date_end'] - client_df['date_modif_prod'])\n",
    "\n",
    "#Let's add a new col -> imp + net\n",
    "client_df['imp_net'] = client_df['imp_cons'] + client_df['net_margin']\n",
    "client_df['imp_net'] = client_df['imp_net']"
   ]
  },
  {
   "cell_type": "code",
   "execution_count": null,
   "id": "6454ca2a",
   "metadata": {
    "hidden": true
   },
   "outputs": [],
   "source": [
    "#grouping prices by its mean per year + churn col\n",
    "price_off_peak = price_df.groupby('id').agg({'price_off_peak_var':'mean',\n",
    "                                                      'price_off_peak_fix':'mean'})\n",
    "\n",
    "price_peak = price_df.groupby('id').agg({'price_peak_var':'mean',\n",
    "                                         'price_peak_fix':'mean'})\n",
    "\n",
    "POP = pd.merge(price_off_peak, client_df, on=['id'], how='left')\n",
    "PP = pd.merge(price_peak, client_df, on=['id'], how='left')\n",
    "\n",
    "POP = POP.loc[:,['id', 'price_off_peak_var', 'price_off_peak_fix', 'churn']].copy()\n",
    "PP = PP.loc[:,['id', 'price_peak_var', 'price_peak_fix', 'churn']].copy()"
   ]
  },
  {
   "cell_type": "code",
   "execution_count": null,
   "id": "74c20d32",
   "metadata": {
    "hidden": true
   },
   "outputs": [],
   "source": [
    "def miss_u(dt):\n",
    "    miss = dt.isna().sum()\n",
    "    total = np.product(dt.shape)\n",
    "    total_miss = miss.count().sum()\n",
    "    print(f'There are {round((total_miss/total)*100, 2)}% of missing values between price and client id after merging the prices off peak dataset')"
   ]
  },
  {
   "cell_type": "code",
   "execution_count": null,
   "id": "483a9c36",
   "metadata": {
    "hidden": true
   },
   "outputs": [],
   "source": [
    "miss_u(POP)"
   ]
  },
  {
   "cell_type": "code",
   "execution_count": null,
   "id": "56add200",
   "metadata": {
    "hidden": true
   },
   "outputs": [],
   "source": [
    "miss_u(PP)"
   ]
  },
  {
   "cell_type": "markdown",
   "id": "7ea5c913",
   "metadata": {},
   "source": [
    "# Data Analysis"
   ]
  },
  {
   "cell_type": "code",
   "execution_count": null,
   "id": "3e634a4d",
   "metadata": {},
   "outputs": [],
   "source": [
    "client_df['churn'].value_counts()\n",
    "#round(client_df['churn'].value_counts()/len(client_df),2)"
   ]
  },
  {
   "cell_type": "markdown",
   "id": "2b9d4882",
   "metadata": {},
   "source": [
    "### Trends and comparisons"
   ]
  },
  {
   "cell_type": "code",
   "execution_count": null,
   "id": "49cbaab8",
   "metadata": {},
   "outputs": [],
   "source": [
    "#Consume in 12 months\n",
    "\n",
    "fig = px.histogram(client_df, x=\"cons_12m\", color=\"churn\", marginal=\"rug\", # can be `box`, `violin`\n",
    "                         hover_data=client_df.columns,\n",
    "                  height=400, width=500)\n",
    "fig.show()"
   ]
  },
  {
   "cell_type": "code",
   "execution_count": null,
   "id": "d5064075",
   "metadata": {
    "scrolled": true
   },
   "outputs": [],
   "source": [
    "fig = px.histogram(client_df, x=\"diff_end_activ\", color=\"churn\", height=400, width=500)\n",
    "fig.show()"
   ]
  },
  {
   "cell_type": "code",
   "execution_count": null,
   "id": "10abd535",
   "metadata": {},
   "outputs": [],
   "source": [
    "fig = px.histogram(client_df, x=\"cons_fore_12m\", color=\"churn\", marginal=\"rug\", # can be `box`, `violin`\n",
    "                         hover_data=client_df.columns,\n",
    "                  height=400, width=500)\n",
    "fig.show()"
   ]
  },
  {
   "cell_type": "code",
   "execution_count": null,
   "id": "34e75d8f",
   "metadata": {},
   "outputs": [],
   "source": [
    "x = client_df[client_df['churn']==1]\n",
    "x['modify_b4_end'].value_counts()"
   ]
  },
  {
   "cell_type": "code",
   "execution_count": null,
   "id": "055b7a86",
   "metadata": {},
   "outputs": [],
   "source": [
    "x[x['modify_b4_end']=='2557 days']\n",
    "len(x)"
   ]
  },
  {
   "cell_type": "code",
   "execution_count": null,
   "id": "2c9b953b",
   "metadata": {},
   "outputs": [],
   "source": [
    "fig = px.histogram(client_df, x=\"imp_net\", color=\"churn\", marginal=\"rug\", # can be `box`, `violin`\n",
    "                         hover_data=client_df.columns,\n",
    "                  height=400, width=500)\n",
    "fig.show()"
   ]
  },
  {
   "cell_type": "markdown",
   "id": "4ac7b9c0",
   "metadata": {},
   "source": [
    "### Price Dataset"
   ]
  },
  {
   "cell_type": "code",
   "execution_count": null,
   "id": "4757b396",
   "metadata": {},
   "outputs": [],
   "source": [
    "POP.dropna(axis=0, inplace=True)\n",
    "PP.dropna(axis=0, inplace=True)"
   ]
  },
  {
   "cell_type": "code",
   "execution_count": null,
   "id": "af331175",
   "metadata": {},
   "outputs": [],
   "source": [
    "fig = px.histogram(POP, x=\"price_off_peak_var\", color=\"churn\", marginal=\"rug\", # can be `box`, `violin`\n",
    "                         hover_data=POP.columns,\n",
    "                  height=400, width=500)\n",
    "fig.show()"
   ]
  },
  {
   "cell_type": "code",
   "execution_count": null,
   "id": "a161d917",
   "metadata": {},
   "outputs": [],
   "source": [
    "#Comparisons\n",
    "\n",
    "z = POP[POP['churn']==1]\n",
    "#z.price_off_peak_var.min()\n",
    "#len(z[z[\"price_off_peak_var\"]>0.1031])\n",
    "#POP[\"price_off_peak_var\"].mean()#42.92 var=.1423\n",
    "#z.price_off_peak_var.value_counts()"
   ]
  },
  {
   "cell_type": "code",
   "execution_count": null,
   "id": "f0994031",
   "metadata": {},
   "outputs": [],
   "source": [
    "z_score_off_var = (0.1418-0.1423)/0.022 #proportion of .49202 ~56.4% (801) below the mean var\n",
    "z_score_off_fix = (43.16-42.92)/4.55 #proportion of .51994 ~56% (795) above the mean fix"
   ]
  },
  {
   "cell_type": "code",
   "execution_count": null,
   "id": "176975d1",
   "metadata": {},
   "outputs": [],
   "source": [
    "fig = px.histogram(POP, x=\"price_off_peak_fix\", color=\"churn\", marginal=\"rug\", # can be `box`, `violin`\n",
    "                         hover_data=POP.columns,\n",
    "                  height=400, width=500)\n",
    "fig.show()"
   ]
  },
  {
   "cell_type": "code",
   "execution_count": null,
   "id": "dac2767c",
   "metadata": {},
   "outputs": [],
   "source": [
    "fig = px.histogram(PP, x=\"price_peak_fix\", color=\"churn\", marginal=\"rug\", # can be `box`, `violin`\n",
    "                         hover_data=PP.columns,\n",
    "                  height=400, width=500)\n",
    "fig.show()"
   ]
  },
  {
   "cell_type": "code",
   "execution_count": null,
   "id": "c1b51a94",
   "metadata": {},
   "outputs": [],
   "source": [
    "fig = px.histogram(PP, x=\"price_peak_var\", color=\"churn\", marginal=\"rug\", # can be `box`, `violin`\n",
    "                         hover_data=PP.columns,\n",
    "                  height=400, width=500)\n",
    "fig.show()"
   ]
  },
  {
   "cell_type": "code",
   "execution_count": null,
   "id": "b83246ba",
   "metadata": {},
   "outputs": [],
   "source": [
    "#Comparisons\n",
    "q = PP[PP['churn']==1]\n",
    "#PP.price_peak_fix.std()\n",
    "len(q[q[\"price_peak_fix\"]>11.19])\n",
    "#PP[\"price_off_peak_var\"].mean()#42.92 var=.1423"
   ]
  },
  {
   "cell_type": "code",
   "execution_count": null,
   "id": "a8ab554d",
   "metadata": {},
   "outputs": [],
   "source": [
    "z_score_var = (0.056-0.052)/0.049 #proportion of .78814 ~55.5% (788) below the mean var\n",
    "z_score_fix = (11.19-9.46)/12.05 #proportion of .55567 ~45.3% (643) above the mean fix"
   ]
  },
  {
   "cell_type": "markdown",
   "id": "9df0c6d9",
   "metadata": {},
   "source": [
    "### Considerations***\n",
    "1. ~79.42% churn people was consuming between 0 & 50K in 12m, and ~9.72% was between 50K and 100K.\n",
    "2. ~72.16% churn people renewal their contract in the right day, and just ~3.87% pass over one day to renewal.\n",
    "3. churn people started with whose had ~4 years of contract; client data has 1061 people with this same time.\n",
    "4. The highest rate of churn was between the values 0.1235 & 0.1245 (11.06%), the second rate was between 0.1495 & 0.1505 (~9.51%). Price off var.\n",
    "5. Churn rate was higher ~28% between 40.65 & 40.69 passing over the client with 25%. However, the max churn was between the values of 44.\n",
    "6. The only flag was who was paying between 0.1025 & 0.1075 churned more. Price peak var"
   ]
  },
  {
   "cell_type": "markdown",
   "id": "c2eb5d6f",
   "metadata": {
    "heading_collapsed": true
   },
   "source": [
    "# Hypotesis Test"
   ]
  },
  {
   "cell_type": "code",
   "execution_count": null,
   "id": "bbdc8c28",
   "metadata": {
    "hidden": true
   },
   "outputs": [],
   "source": [
    "#Merging POP and client_df\n",
    "\n",
    "DP = pd.merge(client_df, POP, on=['id'], how='left')\n",
    "CP = pd.merge(DP, PP, on=['id'], how='left')\n",
    "CP.drop([\"churn_y\"], axis=1, inplace=True)"
   ]
  },
  {
   "cell_type": "code",
   "execution_count": null,
   "id": "52bc4790",
   "metadata": {
    "hidden": true
   },
   "outputs": [],
   "source": [
    "#Filter by consume\n",
    "\n",
    "future_churn = CP[CP['churn_x']==0]\n",
    "future_churn1 = future_churn[(future_churn['cons_12m']>0) & (future_churn['cons_12m'] <= 50000)] "
   ]
  },
  {
   "cell_type": "code",
   "execution_count": null,
   "id": "33a901c5",
   "metadata": {
    "hidden": true
   },
   "outputs": [],
   "source": [
    "#Filter by days of renewal\n",
    "\n",
    "future_churn2 = future_churn1[future_churn1['diff_end_activ']==0]"
   ]
  },
  {
   "cell_type": "code",
   "execution_count": null,
   "id": "aba058dd",
   "metadata": {
    "hidden": true
   },
   "outputs": [],
   "source": [
    "#Filter by years of contract\n",
    "\n",
    "future_churn3 = future_churn2[future_churn2['num_years_antig']==4]"
   ]
  },
  {
   "cell_type": "code",
   "execution_count": null,
   "id": "106baa46",
   "metadata": {
    "hidden": true
   },
   "outputs": [],
   "source": [
    "#Filtering by Price - First Rate ~ 135 people\n",
    "\n",
    "price_off = future_churn3[(future_churn3['price_off_peak_var'] >= 0.1235)&(future_churn3['price_off_peak_var'] <= 0.1245)]"
   ]
  },
  {
   "cell_type": "code",
   "execution_count": null,
   "id": "cbd66730",
   "metadata": {
    "hidden": true
   },
   "outputs": [],
   "source": [
    "#Filtering by price - second rate ~367 people\n",
    "\n",
    "price_off2 = future_churn3[(future_churn3['price_off_peak_var'] >= 0.1495)&(future_churn3['price_off_peak_var'] <= 0.1505)]"
   ]
  },
  {
   "cell_type": "code",
   "execution_count": null,
   "id": "c888d34e",
   "metadata": {
    "hidden": true
   },
   "outputs": [],
   "source": [
    "#Filtering by Fix Price - First Rate ~ 181 people\n",
    "\n",
    "price_off_fix = future_churn3[(future_churn3['price_off_peak_fix'] >= 40.65)&(future_churn3['price_off_peak_fix'] <= 40.69)]"
   ]
  },
  {
   "cell_type": "code",
   "execution_count": null,
   "id": "99fce8a7",
   "metadata": {
    "hidden": true
   },
   "outputs": [],
   "source": [
    "#Filtering by Fix Price - Second Rate ~ 906 people\n",
    "\n",
    "price_off_fix2 = future_churn3[(future_churn3['price_off_peak_fix'] >= 44.3)&(future_churn3['price_off_peak_fix'] <= 44.49)]"
   ]
  },
  {
   "cell_type": "code",
   "execution_count": null,
   "id": "eb80b47b",
   "metadata": {
    "hidden": true
   },
   "outputs": [],
   "source": [
    "#The first group - with lowest values of price off peak and price_peak_var 0.1025 & 0.1075 ~ 26 people\n",
    "\n",
    "price_test = price_off[(price_off['price_off_peak_fix'] > 40.65)&(price_off['price_off_peak_fix'] <= 40.69)]\n",
    "x = price_test[(price_test['price_peak_var'] > 0.1025)&(price_test['price_peak_var'] <=0.1075)]\n",
    "x.shape"
   ]
  },
  {
   "cell_type": "code",
   "execution_count": null,
   "id": "f9061cb1",
   "metadata": {
    "hidden": true
   },
   "outputs": [],
   "source": [
    "price_test_h = price_off[(price_off['price_off_peak_fix'] > 44.3)&(price_off['price_off_peak_fix'] <= 44.9)]\n",
    "w = price_test_h[(price_test['price_peak_var'] >= 0.1025)&(price_test_h['price_peak_var'] <=0.1075)]\n",
    "w.shape"
   ]
  },
  {
   "cell_type": "code",
   "execution_count": null,
   "id": "dd2933df",
   "metadata": {
    "hidden": true
   },
   "outputs": [],
   "source": [
    "price_test_hsec = price_off2[(price_off2['price_off_peak_fix'] >= 40.65)&(price_off2['price_off_peak_fix'] <= 40.69)]\n",
    "price_test_hsec[(price_test_hsec['price_peak_var'] >= 0.1025)&(price_test_hsec['price_peak_var'] <=0.1075)]\n",
    "price_test_hsec.shape"
   ]
  },
  {
   "cell_type": "code",
   "execution_count": null,
   "id": "4d2750d0",
   "metadata": {
    "hidden": true
   },
   "outputs": [],
   "source": [
    "#The second group - with highest price off and lowest price peak var ~ 230 people\n",
    "\n",
    "price_test_sec = price_off2[(price_off2['price_off_peak_fix'] >= 44.3)&(price_off2['price_off_peak_fix'] <= 44.49)]\n",
    "u = price_test_sec[(price_test_sec['price_peak_var'] >= 0.1025)&(price_test_sec['price_peak_var'] <=0.1075)]\n",
    "u.shape"
   ]
  },
  {
   "cell_type": "code",
   "execution_count": null,
   "id": "cdbb9e7f",
   "metadata": {
    "hidden": true
   },
   "outputs": [],
   "source": [
    "w = price_test[price_test['price_peak_var']<= 0.0025]\n",
    "w.shape"
   ]
  },
  {
   "cell_type": "code",
   "execution_count": null,
   "id": "3421744c",
   "metadata": {
    "hidden": true
   },
   "outputs": [],
   "source": [
    "#Second Option: New test - Adding PP as a last feature - price_peak_var < 0.0025 ~208 people\n",
    "\n",
    "y = price_test_sec[price_test_sec['price_peak_var'] <= 0.0025]\n",
    "y.shape"
   ]
  },
  {
   "cell_type": "code",
   "execution_count": null,
   "id": "2d64b101",
   "metadata": {
    "hidden": true
   },
   "outputs": [],
   "source": [
    "#Filtering by Impost and net margin\n",
    "net_y = y[y['imp_net']<75]\n",
    "net_y.shape"
   ]
  },
  {
   "cell_type": "code",
   "execution_count": null,
   "id": "117bd8ca",
   "metadata": {
    "hidden": true
   },
   "outputs": [],
   "source": [
    "#Filtering by Impost and net margin\n",
    "net_x = x[x['imp_net']<75]\n",
    "net_x.shape"
   ]
  },
  {
   "cell_type": "code",
   "execution_count": null,
   "id": "5bc8600f",
   "metadata": {
    "hidden": true,
    "scrolled": true
   },
   "outputs": [],
   "source": [
    "final_data = pd.concat([net_y, net_x])\n",
    "final_data"
   ]
  },
  {
   "cell_type": "code",
   "execution_count": null,
   "id": "7907c7b8",
   "metadata": {
    "hidden": true
   },
   "outputs": [],
   "source": [
    "#The proportion of future churn date-end month ~again 8th & 9th is in the top (it's a prior)\n",
    "\n",
    "final_data['date_end'].dt.month.value_counts()[:4]"
   ]
  },
  {
   "cell_type": "markdown",
   "id": "070640cb",
   "metadata": {},
   "source": [
    "# Recomendation"
   ]
  },
  {
   "cell_type": "markdown",
   "id": "c3d6d132",
   "metadata": {},
   "source": [
    "The data showed that churn people were paying above the mean per client. Even though the churning reason was pointed to price, the machine considered consumption an important feature and as it was not computed, the main factors to build a pattern is non-understandable, however their little patterns were statistically applied and 103 current clients showed the same behaviour as churn people.<br>\n",
    "The solution of applying a discount is a good aproach but as we saw early the price is highly above the estimated value so there are some things to consider before applying a discount:\n",
    "- More Quality of Service\n",
    "- Build a relationship with customers\n",
    "- Priorize customers in specific geo areas - segmentation"
   ]
  }
 ],
 "metadata": {
  "kernelspec": {
   "display_name": "Python 3 (ipykernel)",
   "language": "python",
   "name": "python3"
  },
  "language_info": {
   "codemirror_mode": {
    "name": "ipython",
    "version": 3
   },
   "file_extension": ".py",
   "mimetype": "text/x-python",
   "name": "python",
   "nbconvert_exporter": "python",
   "pygments_lexer": "ipython3",
   "version": "3.9.7"
  }
 },
 "nbformat": 4,
 "nbformat_minor": 5
}
