{
 "cells": [
  {
   "cell_type": "markdown",
   "id": "c361e245",
   "metadata": {},
   "source": [
    "# BCG & PowerCO - Churn Model \n",
    "## RandomForest Model w/ TuriCreate\n",
    "\n",
    "**Author:** Ingrid Cadu<br>\n",
    "**Last update:** Mai, 26, 2022<br>\n",
    "<br>\n",
    "This notebook contains the model that will evaluate the churn on PowerCo customers, and as asked It will also check the hyposthesis about the 20% off and its effects on people predicted as possible churn.<br>\n",
    "\n",
    "**Background**<br>\n",
    "- The SME team suggestions:\n",
    "        1. Feature engineering is one of the keys to unlocking predictive insight through mathematical modeling. Based on the data that is available and was cleaned, identify what you think could be drivers of churn for our client and build those features to later use in your model.\n",
    "\n",
    "        2. First focus on building on top of the feature that your colleague has already investigated: “the difference between off-peak prices in December and January the preceding year”. After this, if you have time, feel free to get creative with making any other features that you feel are worthwhile.\n",
    "\n",
    "        3. Once you have a set of features, you must train a Random Forest classifier to predict customer churn and evaluate the performance of the model with suitable evaluation metrics. Be rigorous with your approach and give full justification for any decisions made by yourself as the intern data scientist. \n",
    "\n",
    "- **Extra Task:**<br>\n",
    "    Recall that the hypotheses under consideration is that churn is driven by the customers’ price sensitivities and that it would be possible to predict customers likely to churn using a predictive model. If you’re eager to go the extra mile for the client, when you have a trained predictive model, remember to investigate the client’s proposed discounting strategy, with the head of the SME division suggesting that offering customers at high propensity to churn a 20% discount might be effective.\n",
    "\n",
    "**Prior Objective**<br>\n",
    "Build your models and test them while keeping in mind you would need data to prove/disprove the hypotheses, as well as to test the effect of a 20% discount on customers at high propensity to churn."
   ]
  },
  {
   "cell_type": "markdown",
   "id": "fea5acd6",
   "metadata": {
    "heading_collapsed": true
   },
   "source": [
    "# Imports and Data"
   ]
  },
  {
   "cell_type": "code",
   "execution_count": 32,
   "id": "92717a1b",
   "metadata": {
    "hidden": true
   },
   "outputs": [],
   "source": [
    "import turicreate"
   ]
  },
  {
   "cell_type": "code",
   "execution_count": 33,
   "id": "a0b1d248",
   "metadata": {
    "hidden": true
   },
   "outputs": [
    {
     "data": {
      "text/html": [
       "<pre>Finished parsing file /home/ingrid_silva/Documents/PORTFOLIO/Projects-Intership/BCG/client_data.csv</pre>"
      ],
      "text/plain": [
       "Finished parsing file /home/ingrid_silva/Documents/PORTFOLIO/Projects-Intership/BCG/client_data.csv"
      ]
     },
     "metadata": {},
     "output_type": "display_data"
    },
    {
     "data": {
      "text/html": [
       "<pre>Parsing completed. Parsed 100 lines in 0.751836 secs.</pre>"
      ],
      "text/plain": [
       "Parsing completed. Parsed 100 lines in 0.751836 secs."
      ]
     },
     "metadata": {},
     "output_type": "display_data"
    },
    {
     "data": {
      "text/html": [
       "<pre>Finished parsing file /home/ingrid_silva/Documents/PORTFOLIO/Projects-Intership/BCG/client_data.csv</pre>"
      ],
      "text/plain": [
       "Finished parsing file /home/ingrid_silva/Documents/PORTFOLIO/Projects-Intership/BCG/client_data.csv"
      ]
     },
     "metadata": {},
     "output_type": "display_data"
    },
    {
     "data": {
      "text/html": [
       "<pre>Parsing completed. Parsed 14606 lines in 0.422896 secs.</pre>"
      ],
      "text/plain": [
       "Parsing completed. Parsed 14606 lines in 0.422896 secs."
      ]
     },
     "metadata": {},
     "output_type": "display_data"
    }
   ],
   "source": [
    "data = turicreate.SFrame.read_csv(\"./client_data.csv\", column_type_hints={'churn':int})\n",
    "del data['id']"
   ]
  },
  {
   "cell_type": "markdown",
   "id": "bd97d5aa",
   "metadata": {
    "hidden": true
   },
   "source": [
    "Data will not be explored here.\n",
    "For ore details check the notebook named <u>'Churn Analysis.ipynb'</u>"
   ]
  },
  {
   "cell_type": "markdown",
   "id": "0b415888",
   "metadata": {
    "heading_collapsed": true
   },
   "source": [
    "# Model Auto-Selection - Classifier"
   ]
  },
  {
   "cell_type": "code",
   "execution_count": 34,
   "id": "12934e01",
   "metadata": {
    "hidden": true
   },
   "outputs": [],
   "source": [
    "train, test = data.random_split(0.8)"
   ]
  },
  {
   "cell_type": "code",
   "execution_count": 35,
   "id": "7a138405",
   "metadata": {
    "code_folding": [],
    "hidden": true,
    "scrolled": true
   },
   "outputs": [
    {
     "name": "stdout",
     "output_type": "stream",
     "text": [
      "PROGRESS: Creating a validation set from 5 percent of training data. This may take a while.\n",
      "          You can set ``validation_set=None`` to disable validation tracking.\n",
      "\n",
      "PROGRESS: The following methods are available for this type of problem.\n",
      "PROGRESS: LogisticClassifier, SVMClassifier\n",
      "PROGRESS: The returned model will be chosen according to validation accuracy.\n"
     ]
    },
    {
     "data": {
      "text/html": [
       "<pre>Logistic regression:</pre>"
      ],
      "text/plain": [
       "Logistic regression:"
      ]
     },
     "metadata": {},
     "output_type": "display_data"
    },
    {
     "data": {
      "text/html": [
       "<pre>--------------------------------------------------------</pre>"
      ],
      "text/plain": [
       "--------------------------------------------------------"
      ]
     },
     "metadata": {},
     "output_type": "display_data"
    },
    {
     "data": {
      "text/html": [
       "<pre>Number of examples          : 11129</pre>"
      ],
      "text/plain": [
       "Number of examples          : 11129"
      ]
     },
     "metadata": {},
     "output_type": "display_data"
    },
    {
     "data": {
      "text/html": [
       "<pre>Number of classes           : 2</pre>"
      ],
      "text/plain": [
       "Number of classes           : 2"
      ]
     },
     "metadata": {},
     "output_type": "display_data"
    },
    {
     "data": {
      "text/html": [
       "<pre>Number of feature columns   : 24</pre>"
      ],
      "text/plain": [
       "Number of feature columns   : 24"
      ]
     },
     "metadata": {},
     "output_type": "display_data"
    },
    {
     "data": {
      "text/html": [
       "<pre>Number of unpacked features : 24</pre>"
      ],
      "text/plain": [
       "Number of unpacked features : 24"
      ]
     },
     "metadata": {},
     "output_type": "display_data"
    },
    {
     "data": {
      "text/html": [
       "<pre>Number of coefficients      : 4388</pre>"
      ],
      "text/plain": [
       "Number of coefficients      : 4388"
      ]
     },
     "metadata": {},
     "output_type": "display_data"
    },
    {
     "data": {
      "text/html": [
       "<pre>Starting L-BFGS</pre>"
      ],
      "text/plain": [
       "Starting L-BFGS"
      ]
     },
     "metadata": {},
     "output_type": "display_data"
    },
    {
     "data": {
      "text/html": [
       "<pre>--------------------------------------------------------</pre>"
      ],
      "text/plain": [
       "--------------------------------------------------------"
      ]
     },
     "metadata": {},
     "output_type": "display_data"
    },
    {
     "data": {
      "text/html": [
       "<pre>+-----------+----------+-----------+--------------+-------------------+---------------------+</pre>"
      ],
      "text/plain": [
       "+-----------+----------+-----------+--------------+-------------------+---------------------+"
      ]
     },
     "metadata": {},
     "output_type": "display_data"
    },
    {
     "data": {
      "text/html": [
       "<pre>| Iteration | Passes   | Step size | Elapsed Time | Training Accuracy | Validation Accuracy |</pre>"
      ],
      "text/plain": [
       "| Iteration | Passes   | Step size | Elapsed Time | Training Accuracy | Validation Accuracy |"
      ]
     },
     "metadata": {},
     "output_type": "display_data"
    },
    {
     "data": {
      "text/html": [
       "<pre>+-----------+----------+-----------+--------------+-------------------+---------------------+</pre>"
      ],
      "text/plain": [
       "+-----------+----------+-----------+--------------+-------------------+---------------------+"
      ]
     },
     "metadata": {},
     "output_type": "display_data"
    },
    {
     "data": {
      "text/html": [
       "<pre>| 0         | 2        | 1.000000  | 0.151104     | 0.902866          | 0.924915            |</pre>"
      ],
      "text/plain": [
       "| 0         | 2        | 1.000000  | 0.151104     | 0.902866          | 0.924915            |"
      ]
     },
     "metadata": {},
     "output_type": "display_data"
    },
    {
     "data": {
      "text/html": [
       "<pre>| 1         | 6        | 3.000000  | 0.458693     | 0.909066          | 0.916382            |</pre>"
      ],
      "text/plain": [
       "| 1         | 6        | 3.000000  | 0.458693     | 0.909066          | 0.916382            |"
      ]
     },
     "metadata": {},
     "output_type": "display_data"
    },
    {
     "data": {
      "text/html": [
       "<pre>| 2         | 7        | 3.000000  | 0.561482     | 0.783718          | 0.713311            |</pre>"
      ],
      "text/plain": [
       "| 2         | 7        | 3.000000  | 0.561482     | 0.783718          | 0.713311            |"
      ]
     },
     "metadata": {},
     "output_type": "display_data"
    },
    {
     "data": {
      "text/html": [
       "<pre>| 3         | 9        | 0.727565  | 0.715078     | 0.919759          | 0.901024            |</pre>"
      ],
      "text/plain": [
       "| 3         | 9        | 0.727565  | 0.715078     | 0.919759          | 0.901024            |"
      ]
     },
     "metadata": {},
     "output_type": "display_data"
    },
    {
     "data": {
      "text/html": [
       "<pre>| 4         | 10       | 0.909457  | 0.813639     | 0.926139          | 0.902730            |</pre>"
      ],
      "text/plain": [
       "| 4         | 10       | 0.909457  | 0.813639     | 0.926139          | 0.902730            |"
      ]
     },
     "metadata": {},
     "output_type": "display_data"
    },
    {
     "data": {
      "text/html": [
       "<pre>| 9         | 20       | 1.000000  | 1.497884     | 0.938809          | 0.883959            |</pre>"
      ],
      "text/plain": [
       "| 9         | 20       | 1.000000  | 1.497884     | 0.938809          | 0.883959            |"
      ]
     },
     "metadata": {},
     "output_type": "display_data"
    },
    {
     "data": {
      "text/html": [
       "<pre>+-----------+----------+-----------+--------------+-------------------+---------------------+</pre>"
      ],
      "text/plain": [
       "+-----------+----------+-----------+--------------+-------------------+---------------------+"
      ]
     },
     "metadata": {},
     "output_type": "display_data"
    },
    {
     "data": {
      "text/html": [
       "<pre>SVM:</pre>"
      ],
      "text/plain": [
       "SVM:"
      ]
     },
     "metadata": {},
     "output_type": "display_data"
    },
    {
     "data": {
      "text/html": [
       "<pre>--------------------------------------------------------</pre>"
      ],
      "text/plain": [
       "--------------------------------------------------------"
      ]
     },
     "metadata": {},
     "output_type": "display_data"
    },
    {
     "data": {
      "text/html": [
       "<pre>Number of examples          : 11129</pre>"
      ],
      "text/plain": [
       "Number of examples          : 11129"
      ]
     },
     "metadata": {},
     "output_type": "display_data"
    },
    {
     "data": {
      "text/html": [
       "<pre>Number of classes           : 2</pre>"
      ],
      "text/plain": [
       "Number of classes           : 2"
      ]
     },
     "metadata": {},
     "output_type": "display_data"
    },
    {
     "data": {
      "text/html": [
       "<pre>Number of feature columns   : 24</pre>"
      ],
      "text/plain": [
       "Number of feature columns   : 24"
      ]
     },
     "metadata": {},
     "output_type": "display_data"
    },
    {
     "data": {
      "text/html": [
       "<pre>Number of unpacked features : 24</pre>"
      ],
      "text/plain": [
       "Number of unpacked features : 24"
      ]
     },
     "metadata": {},
     "output_type": "display_data"
    },
    {
     "data": {
      "text/html": [
       "<pre>Number of coefficients    : 4388</pre>"
      ],
      "text/plain": [
       "Number of coefficients    : 4388"
      ]
     },
     "metadata": {},
     "output_type": "display_data"
    },
    {
     "data": {
      "text/html": [
       "<pre>Starting L-BFGS</pre>"
      ],
      "text/plain": [
       "Starting L-BFGS"
      ]
     },
     "metadata": {},
     "output_type": "display_data"
    },
    {
     "data": {
      "text/html": [
       "<pre>--------------------------------------------------------</pre>"
      ],
      "text/plain": [
       "--------------------------------------------------------"
      ]
     },
     "metadata": {},
     "output_type": "display_data"
    },
    {
     "data": {
      "text/html": [
       "<pre>+-----------+----------+-----------+--------------+-------------------+---------------------+</pre>"
      ],
      "text/plain": [
       "+-----------+----------+-----------+--------------+-------------------+---------------------+"
      ]
     },
     "metadata": {},
     "output_type": "display_data"
    },
    {
     "data": {
      "text/html": [
       "<pre>| Iteration | Passes   | Step size | Elapsed Time | Training Accuracy | Validation Accuracy |</pre>"
      ],
      "text/plain": [
       "| Iteration | Passes   | Step size | Elapsed Time | Training Accuracy | Validation Accuracy |"
      ]
     },
     "metadata": {},
     "output_type": "display_data"
    },
    {
     "data": {
      "text/html": [
       "<pre>+-----------+----------+-----------+--------------+-------------------+---------------------+</pre>"
      ],
      "text/plain": [
       "+-----------+----------+-----------+--------------+-------------------+---------------------+"
      ]
     },
     "metadata": {},
     "output_type": "display_data"
    },
    {
     "data": {
      "text/html": [
       "<pre>| 0         | 2        | 1.000000  | 0.180871     | 0.902866          | 0.924915            |</pre>"
      ],
      "text/plain": [
       "| 0         | 2        | 1.000000  | 0.180871     | 0.902866          | 0.924915            |"
      ]
     },
     "metadata": {},
     "output_type": "display_data"
    },
    {
     "data": {
      "text/html": [
       "<pre>| 1         | 9        | 6.237572  | 0.603477     | 0.913919          | 0.894198            |</pre>"
      ],
      "text/plain": [
       "| 1         | 9        | 6.237572  | 0.603477     | 0.913919          | 0.894198            |"
      ]
     },
     "metadata": {},
     "output_type": "display_data"
    },
    {
     "data": {
      "text/html": [
       "<pre>| 2         | 10       | 6.237572  | 0.705082     | 0.106748          | 0.095563            |</pre>"
      ],
      "text/plain": [
       "| 2         | 10       | 6.237572  | 0.705082     | 0.106748          | 0.095563            |"
      ]
     },
     "metadata": {},
     "output_type": "display_data"
    },
    {
     "data": {
      "text/html": [
       "<pre>| 3         | 13       | 0.136583  | 0.889537     | 0.919579          | 0.883959            |</pre>"
      ],
      "text/plain": [
       "| 3         | 13       | 0.136583  | 0.889537     | 0.919579          | 0.883959            |"
      ]
     },
     "metadata": {},
     "output_type": "display_data"
    },
    {
     "data": {
      "text/html": [
       "<pre>| 4         | 14       | 0.170729  | 0.950027     | 0.920119          | 0.885666            |</pre>"
      ],
      "text/plain": [
       "| 4         | 14       | 0.170729  | 0.950027     | 0.920119          | 0.885666            |"
      ]
     },
     "metadata": {},
     "output_type": "display_data"
    },
    {
     "data": {
      "text/html": [
       "<pre>| 9         | 29       | 0.792773  | 1.925409     | 0.926049          | 0.892491            |</pre>"
      ],
      "text/plain": [
       "| 9         | 29       | 0.792773  | 1.925409     | 0.926049          | 0.892491            |"
      ]
     },
     "metadata": {},
     "output_type": "display_data"
    },
    {
     "data": {
      "text/html": [
       "<pre>+-----------+----------+-----------+--------------+-------------------+---------------------+</pre>"
      ],
      "text/plain": [
       "+-----------+----------+-----------+--------------+-------------------+---------------------+"
      ]
     },
     "metadata": {},
     "output_type": "display_data"
    },
    {
     "name": "stdout",
     "output_type": "stream",
     "text": [
      "PROGRESS: Model selection based on validation accuracy:\n",
      "PROGRESS: ---------------------------------------------\n",
      "PROGRESS: LogisticClassifier              : 0.8839590443686007\n",
      "PROGRESS: SVMClassifier                   : 0.8924914675767918\n",
      "PROGRESS: ---------------------------------------------\n",
      "PROGRESS: Selecting SVMClassifier based on validation set performance.\n"
     ]
    },
    {
     "data": {
      "text/plain": [
       "{'accuracy': 0.87512971290211, 'confusion_matrix': Columns:\n",
       " \ttarget_label\tint\n",
       " \tpredicted_label\tint\n",
       " \tcount\tint\n",
       " \n",
       " Rows: 4\n",
       " \n",
       " Data:\n",
       " +--------------+-----------------+-------+\n",
       " | target_label | predicted_label | count |\n",
       " +--------------+-----------------+-------+\n",
       " |      1       |        1        |   18  |\n",
       " |      0       |        1        |   85  |\n",
       " |      1       |        0        |  276  |\n",
       " |      0       |        0        |  2512 |\n",
       " +--------------+-----------------+-------+\n",
       " [4 rows x 3 columns], 'f1_score': 0.09068010075566751, 'precision': 0.17475728155339806, 'recall': 0.061224489795918366}"
      ]
     },
     "execution_count": 35,
     "metadata": {},
     "output_type": "execute_result"
    }
   ],
   "source": [
    "# Selects the best model based on your data.\n",
    "model = turicreate.classifier.create(train, target='churn')\n",
    "\n",
    "# Make predictions and evaluate results.\n",
    "predictions = model.classify(test)\n",
    "results = model.evaluate(test)\n",
    "results"
   ]
  },
  {
   "cell_type": "markdown",
   "id": "b0ea1bd5",
   "metadata": {
    "heading_collapsed": true
   },
   "source": [
    "# Logistic Classifier"
   ]
  },
  {
   "cell_type": "code",
   "execution_count": 42,
   "id": "5fca716f",
   "metadata": {
    "code_folding": [
     0
    ],
    "hidden": true,
    "scrolled": true
   },
   "outputs": [
    {
     "name": "stdout",
     "output_type": "stream",
     "text": [
      "PROGRESS: Creating a validation set from 5 percent of training data. This may take a while.\n",
      "          You can set ``validation_set=None`` to disable validation tracking.\n",
      "\n"
     ]
    },
    {
     "data": {
      "text/html": [
       "<pre>Logistic regression:</pre>"
      ],
      "text/plain": [
       "Logistic regression:"
      ]
     },
     "metadata": {},
     "output_type": "display_data"
    },
    {
     "data": {
      "text/html": [
       "<pre>--------------------------------------------------------</pre>"
      ],
      "text/plain": [
       "--------------------------------------------------------"
      ]
     },
     "metadata": {},
     "output_type": "display_data"
    },
    {
     "data": {
      "text/html": [
       "<pre>Number of examples          : 11092</pre>"
      ],
      "text/plain": [
       "Number of examples          : 11092"
      ]
     },
     "metadata": {},
     "output_type": "display_data"
    },
    {
     "data": {
      "text/html": [
       "<pre>Number of classes           : 2</pre>"
      ],
      "text/plain": [
       "Number of classes           : 2"
      ]
     },
     "metadata": {},
     "output_type": "display_data"
    },
    {
     "data": {
      "text/html": [
       "<pre>Number of feature columns   : 25</pre>"
      ],
      "text/plain": [
       "Number of feature columns   : 25"
      ]
     },
     "metadata": {},
     "output_type": "display_data"
    },
    {
     "data": {
      "text/html": [
       "<pre>Number of unpacked features : 25</pre>"
      ],
      "text/plain": [
       "Number of unpacked features : 25"
      ]
     },
     "metadata": {},
     "output_type": "display_data"
    },
    {
     "data": {
      "text/html": [
       "<pre>Number of coefficients      : 4446</pre>"
      ],
      "text/plain": [
       "Number of coefficients      : 4446"
      ]
     },
     "metadata": {},
     "output_type": "display_data"
    },
    {
     "data": {
      "text/html": [
       "<pre>Starting L-BFGS</pre>"
      ],
      "text/plain": [
       "Starting L-BFGS"
      ]
     },
     "metadata": {},
     "output_type": "display_data"
    },
    {
     "data": {
      "text/html": [
       "<pre>--------------------------------------------------------</pre>"
      ],
      "text/plain": [
       "--------------------------------------------------------"
      ]
     },
     "metadata": {},
     "output_type": "display_data"
    },
    {
     "data": {
      "text/html": [
       "<pre>+-----------+----------+-----------+--------------+-------------------+---------------------+</pre>"
      ],
      "text/plain": [
       "+-----------+----------+-----------+--------------+-------------------+---------------------+"
      ]
     },
     "metadata": {},
     "output_type": "display_data"
    },
    {
     "data": {
      "text/html": [
       "<pre>| Iteration | Passes   | Step size | Elapsed Time | Training Accuracy | Validation Accuracy |</pre>"
      ],
      "text/plain": [
       "| Iteration | Passes   | Step size | Elapsed Time | Training Accuracy | Validation Accuracy |"
      ]
     },
     "metadata": {},
     "output_type": "display_data"
    },
    {
     "data": {
      "text/html": [
       "<pre>+-----------+----------+-----------+--------------+-------------------+---------------------+</pre>"
      ],
      "text/plain": [
       "+-----------+----------+-----------+--------------+-------------------+---------------------+"
      ]
     },
     "metadata": {},
     "output_type": "display_data"
    },
    {
     "data": {
      "text/html": [
       "<pre>| 0         | 2        | 1.000000  | 0.214419     | 0.903264          | 0.898973            |</pre>"
      ],
      "text/plain": [
       "| 0         | 2        | 1.000000  | 0.214419     | 0.903264          | 0.898973            |"
      ]
     },
     "metadata": {},
     "output_type": "display_data"
    },
    {
     "data": {
      "text/html": [
       "<pre>| 1         | 6        | 3.000000  | 0.509342     | 0.917959          | 0.893836            |</pre>"
      ],
      "text/plain": [
       "| 1         | 6        | 3.000000  | 0.509342     | 0.917959          | 0.893836            |"
      ]
     },
     "metadata": {},
     "output_type": "display_data"
    },
    {
     "data": {
      "text/html": [
       "<pre>| 2         | 7        | 3.000000  | 0.602470     | 0.904706          | 0.845890            |</pre>"
      ],
      "text/plain": [
       "| 2         | 7        | 3.000000  | 0.602470     | 0.904706          | 0.845890            |"
      ]
     },
     "metadata": {},
     "output_type": "display_data"
    },
    {
     "data": {
      "text/html": [
       "<pre>| 3         | 9        | 1.206243  | 0.773856     | 0.926524          | 0.886986            |</pre>"
      ],
      "text/plain": [
       "| 3         | 9        | 1.206243  | 0.773856     | 0.926524          | 0.886986            |"
      ]
     },
     "metadata": {},
     "output_type": "display_data"
    },
    {
     "data": {
      "text/html": [
       "<pre>| 4         | 10       | 1.206243  | 0.895727     | 0.931031          | 0.893836            |</pre>"
      ],
      "text/plain": [
       "| 4         | 10       | 1.206243  | 0.895727     | 0.931031          | 0.893836            |"
      ]
     },
     "metadata": {},
     "output_type": "display_data"
    },
    {
     "data": {
      "text/html": [
       "<pre>| 9         | 19       | 1.000000  | 1.574621     | 0.940137          | 0.880137            |</pre>"
      ],
      "text/plain": [
       "| 9         | 19       | 1.000000  | 1.574621     | 0.940137          | 0.880137            |"
      ]
     },
     "metadata": {},
     "output_type": "display_data"
    },
    {
     "data": {
      "text/html": [
       "<pre>+-----------+----------+-----------+--------------+-------------------+---------------------+</pre>"
      ],
      "text/plain": [
       "+-----------+----------+-----------+--------------+-------------------+---------------------+"
      ]
     },
     "metadata": {},
     "output_type": "display_data"
    },
    {
     "data": {
      "text/plain": [
       "{'accuracy': 0.9257839244146241,\n",
       " 'auc': 0.8853397539048136,\n",
       " 'confusion_matrix': Columns:\n",
       " \ttarget_label\tint\n",
       " \tpredicted_label\tint\n",
       " \tcount\tint\n",
       " \n",
       " Rows: 4\n",
       " \n",
       " Data:\n",
       " +--------------+-----------------+-------+\n",
       " | target_label | predicted_label | count |\n",
       " +--------------+-----------------+-------+\n",
       " |      0       |        1        |  299  |\n",
       " |      1       |        1        |  634  |\n",
       " |      0       |        0        | 12888 |\n",
       " |      1       |        0        |  785  |\n",
       " +--------------+-----------------+-------+\n",
       " [4 rows x 3 columns],\n",
       " 'f1_score': 0.5391156462585034,\n",
       " 'log_loss': 0.24049069551125488,\n",
       " 'precision': 0.6795284030010718,\n",
       " 'recall': 0.44679351656095845,\n",
       " 'roc_curve': Columns:\n",
       " \tthreshold\tfloat\n",
       " \tfpr\tfloat\n",
       " \ttpr\tfloat\n",
       " \tp\tint\n",
       " \tn\tint\n",
       " \n",
       " Rows: 1001\n",
       " \n",
       " Data:\n",
       " +-----------+---------------------+--------------------+------+-------+\n",
       " | threshold |         fpr         |        tpr         |  p   |   n   |\n",
       " +-----------+---------------------+--------------------+------+-------+\n",
       " |    0.0    |         1.0         |        1.0         | 1419 | 13187 |\n",
       " |   0.001   |  0.5706377492985516 | 0.9520789288231148 | 1419 | 13187 |\n",
       " |   0.002   |  0.4934405095927808 | 0.9408033826638478 | 1419 | 13187 |\n",
       " |   0.003   |  0.4529460832638204 | 0.9316420014094433 | 1419 | 13187 |\n",
       " |   0.004   |  0.4224615151285357 | 0.9288231148696265 | 1419 | 13187 |\n",
       " |   0.005   |  0.4024417987411845 | 0.9260042283298098 | 1419 | 13187 |\n",
       " |   0.006   |  0.3869720178964131 | 0.923185341789993  | 1419 | 13187 |\n",
       " |   0.007   | 0.37499052096761964 | 0.9210711768851304 | 1419 | 13187 |\n",
       " |   0.008   |  0.365359824069159  | 0.919661733615222  | 1419 | 13187 |\n",
       " |   0.009   | 0.35663911427921435 | 0.9182522903453136 | 1419 | 13187 |\n",
       " +-----------+---------------------+--------------------+------+-------+\n",
       " [1001 rows x 5 columns]\n",
       " Note: Only the head of the SFrame is printed.\n",
       " You can use print_rows(num_rows=m, num_columns=n) to print more rows and columns.}"
      ]
     },
     "execution_count": 42,
     "metadata": {},
     "output_type": "execute_result"
    }
   ],
   "source": [
    "#Building the model\n",
    "model_LC = turicreate.logistic_classifier.create(train, target='churn')\n",
    "\n",
    "# Make predictions and evaluate results.\n",
    "pred_LC = model_LC.classify(data)\n",
    "res_LC = model_LC.evaluate(data)\n",
    "res_LC"
   ]
  },
  {
   "cell_type": "code",
   "execution_count": 37,
   "id": "f78a079e",
   "metadata": {
    "hidden": true,
    "scrolled": true
   },
   "outputs": [
    {
     "name": "stdout",
     "output_type": "stream",
     "text": [
      "Class                          : LogisticClassifier\n",
      "\n",
      "Schema\n",
      "------\n",
      "Number of coefficients         : 4376\n",
      "Number of examples             : 11129\n",
      "Number of classes              : 2\n",
      "Number of feature columns      : 24\n",
      "Number of unpacked features    : 24\n",
      "\n",
      "Hyperparameters\n",
      "---------------\n",
      "L1 penalty                     : 0.0\n",
      "L2 penalty                     : 0.01\n",
      "\n",
      "Training Summary\n",
      "----------------\n",
      "Solver                         : lbfgs\n",
      "Solver iterations              : 10\n",
      "Solver status                  : Completed (Iteration limit reached).\n",
      "Training time (sec)            : 1.1749\n",
      "\n",
      "Settings\n",
      "--------\n",
      "Log-likelihood                 : 1690.5308\n",
      "\n",
      "Highest Positive Coefficients\n",
      "-----------------------------\n",
      "date_activ[2003-12-12]         : 22.5235\n",
      "date_activ[2004-10-15]         : 22.2767\n",
      "date_activ[2004-09-08]         : 21.3325\n",
      "date_modif_prod[2012-08-18]    : 18.9941\n",
      "date_activ[2009-03-20]         : 18.9437\n",
      "\n",
      "Lowest Negative Coefficients\n",
      "----------------------------\n",
      "date_activ[2009-06-06]         : -14.3463\n",
      "date_renewal[2015-08-23]       : -13.846\n",
      "date_modif_prod[2013-01-18]    : -13.25\n",
      "date_modif_prod[2014-04-13]    : -12.8592\n",
      "date_modif_prod[2010-10-15]    : -12.7826\n",
      "\n"
     ]
    }
   ],
   "source": [
    "model_LC.summary()"
   ]
  },
  {
   "cell_type": "code",
   "execution_count": 43,
   "id": "7c8ae2a0",
   "metadata": {
    "hidden": true
   },
   "outputs": [],
   "source": [
    "#predictions with LC - a bite-data\n",
    "\n",
    "LC = model_LC.predict(data, output_type='probability')\n",
    "data['prob_LC'] = LC/0.001"
   ]
  },
  {
   "cell_type": "markdown",
   "id": "19c882a0",
   "metadata": {
    "heading_collapsed": true
   },
   "source": [
    "# SVM Classifier"
   ]
  },
  {
   "cell_type": "code",
   "execution_count": 44,
   "id": "58990575",
   "metadata": {
    "code_folding": [],
    "hidden": true,
    "scrolled": true
   },
   "outputs": [
    {
     "name": "stdout",
     "output_type": "stream",
     "text": [
      "PROGRESS: Creating a validation set from 5 percent of training data. This may take a while.\n",
      "          You can set ``validation_set=None`` to disable validation tracking.\n",
      "\n"
     ]
    },
    {
     "data": {
      "text/html": [
       "<pre>SVM:</pre>"
      ],
      "text/plain": [
       "SVM:"
      ]
     },
     "metadata": {},
     "output_type": "display_data"
    },
    {
     "data": {
      "text/html": [
       "<pre>--------------------------------------------------------</pre>"
      ],
      "text/plain": [
       "--------------------------------------------------------"
      ]
     },
     "metadata": {},
     "output_type": "display_data"
    },
    {
     "data": {
      "text/html": [
       "<pre>Number of examples          : 11024</pre>"
      ],
      "text/plain": [
       "Number of examples          : 11024"
      ]
     },
     "metadata": {},
     "output_type": "display_data"
    },
    {
     "data": {
      "text/html": [
       "<pre>Number of classes           : 2</pre>"
      ],
      "text/plain": [
       "Number of classes           : 2"
      ]
     },
     "metadata": {},
     "output_type": "display_data"
    },
    {
     "data": {
      "text/html": [
       "<pre>Number of feature columns   : 2</pre>"
      ],
      "text/plain": [
       "Number of feature columns   : 2"
      ]
     },
     "metadata": {},
     "output_type": "display_data"
    },
    {
     "data": {
      "text/html": [
       "<pre>Number of unpacked features : 2</pre>"
      ],
      "text/plain": [
       "Number of unpacked features : 2"
      ]
     },
     "metadata": {},
     "output_type": "display_data"
    },
    {
     "data": {
      "text/html": [
       "<pre>Number of coefficients    : 3</pre>"
      ],
      "text/plain": [
       "Number of coefficients    : 3"
      ]
     },
     "metadata": {},
     "output_type": "display_data"
    },
    {
     "data": {
      "text/html": [
       "<pre>Starting L-BFGS</pre>"
      ],
      "text/plain": [
       "Starting L-BFGS"
      ]
     },
     "metadata": {},
     "output_type": "display_data"
    },
    {
     "data": {
      "text/html": [
       "<pre>--------------------------------------------------------</pre>"
      ],
      "text/plain": [
       "--------------------------------------------------------"
      ]
     },
     "metadata": {},
     "output_type": "display_data"
    },
    {
     "data": {
      "text/html": [
       "<pre>+-----------+----------+-----------+--------------+-------------------+---------------------+</pre>"
      ],
      "text/plain": [
       "+-----------+----------+-----------+--------------+-------------------+---------------------+"
      ]
     },
     "metadata": {},
     "output_type": "display_data"
    },
    {
     "data": {
      "text/html": [
       "<pre>| Iteration | Passes   | Step size | Elapsed Time | Training Accuracy | Validation Accuracy |</pre>"
      ],
      "text/plain": [
       "| Iteration | Passes   | Step size | Elapsed Time | Training Accuracy | Validation Accuracy |"
      ]
     },
     "metadata": {},
     "output_type": "display_data"
    },
    {
     "data": {
      "text/html": [
       "<pre>+-----------+----------+-----------+--------------+-------------------+---------------------+</pre>"
      ],
      "text/plain": [
       "+-----------+----------+-----------+--------------+-------------------+---------------------+"
      ]
     },
     "metadata": {},
     "output_type": "display_data"
    },
    {
     "data": {
      "text/html": [
       "<pre>| 0         | 3        | 5.000000  | 0.051487     | 0.903120          | 0.898451            |</pre>"
      ],
      "text/plain": [
       "| 0         | 3        | 5.000000  | 0.051487     | 0.903120          | 0.898451            |"
      ]
     },
     "metadata": {},
     "output_type": "display_data"
    },
    {
     "data": {
      "text/html": [
       "<pre>| 1         | 6        | 2.500000  | 0.110779     | 0.924528          | 0.920826            |</pre>"
      ],
      "text/plain": [
       "| 1         | 6        | 2.500000  | 0.110779     | 0.924528          | 0.920826            |"
      ]
     },
     "metadata": {},
     "output_type": "display_data"
    },
    {
     "data": {
      "text/html": [
       "<pre>| 2         | 13       | 6.153170  | 0.166151     | 0.925345          | 0.910499            |</pre>"
      ],
      "text/plain": [
       "| 2         | 13       | 6.153170  | 0.166151     | 0.925345          | 0.910499            |"
      ]
     },
     "metadata": {},
     "output_type": "display_data"
    },
    {
     "data": {
      "text/html": [
       "<pre>| 3         | 16       | 4.796140  | 0.196300     | 0.111303          | 0.104991            |</pre>"
      ],
      "text/plain": [
       "| 3         | 16       | 4.796140  | 0.196300     | 0.111303          | 0.104991            |"
      ]
     },
     "metadata": {},
     "output_type": "display_data"
    },
    {
     "data": {
      "text/html": [
       "<pre>| 4         | 20       | 0.259881  | 0.242530     | 0.926887          | 0.912220            |</pre>"
      ],
      "text/plain": [
       "| 4         | 20       | 0.259881  | 0.242530     | 0.926887          | 0.912220            |"
      ]
     },
     "metadata": {},
     "output_type": "display_data"
    },
    {
     "data": {
      "text/html": [
       "<pre>| 9         | 30       | 1.000000  | 0.339913     | 0.927703          | 0.910499            |</pre>"
      ],
      "text/plain": [
       "| 9         | 30       | 1.000000  | 0.339913     | 0.927703          | 0.910499            |"
      ]
     },
     "metadata": {},
     "output_type": "display_data"
    },
    {
     "data": {
      "text/html": [
       "<pre>+-----------+----------+-----------+--------------+-------------------+---------------------+</pre>"
      ],
      "text/plain": [
       "+-----------+----------+-----------+--------------+-------------------+---------------------+"
      ]
     },
     "metadata": {},
     "output_type": "display_data"
    },
    {
     "data": {
      "text/plain": [
       "{'accuracy': 0.9256914361879374, 'confusion_matrix': Columns:\n",
       " \ttarget_label\tint\n",
       " \tpredicted_label\tint\n",
       " \tcount\tint\n",
       " \n",
       " Rows: 4\n",
       " \n",
       " Data:\n",
       " +--------------+-----------------+-------+\n",
       " | target_label | predicted_label | count |\n",
       " +--------------+-----------------+-------+\n",
       " |      0       |        1        |   43  |\n",
       " |      1       |        1        |  112  |\n",
       " |      1       |        0        |  180  |\n",
       " |      0       |        0        |  2666 |\n",
       " +--------------+-----------------+-------+\n",
       " [4 rows x 3 columns], 'f1_score': 0.5011185682326622, 'precision': 0.7225806451612903, 'recall': 0.3835616438356164}"
      ]
     },
     "execution_count": 44,
     "metadata": {},
     "output_type": "execute_result"
    }
   ],
   "source": [
    "#\n",
    "train, test = data.random_split(0.8)\n",
    "\n",
    "#Building the model\n",
    "model_SVM = turicreate.svm_classifier.create(train, target='churn',\n",
    "                                            features=['prob_LC','cons_gas_12m'])\n",
    "\n",
    "# Make predictions and evaluate results.\n",
    "pred_SVM = model_SVM.classify(test)\n",
    "res_SVM = model_SVM.evaluate(test)\n",
    "res_SVM"
   ]
  },
  {
   "cell_type": "code",
   "execution_count": 40,
   "id": "01fda395",
   "metadata": {
    "hidden": true,
    "scrolled": true
   },
   "outputs": [
    {
     "name": "stdout",
     "output_type": "stream",
     "text": [
      "Class                          : SVMClassifier\n",
      "\n",
      "Schema\n",
      "------\n",
      "Number of coefficients         : 3\n",
      "Number of examples             : 11092\n",
      "Number of classes              : 2\n",
      "Number of feature columns      : 2\n",
      "Number of unpacked features    : 2\n",
      "\n",
      "Hyperparameters\n",
      "---------------\n",
      "Mis-classification penalty     : 1.0\n",
      "\n",
      "Training Summary\n",
      "----------------\n",
      "Solver                         : lbfgs\n",
      "Solver iterations              : 10\n",
      "Solver status                  : Completed (Iteration limit reached).\n",
      "Training time (sec)            : 0.2033\n",
      "\n",
      "Settings\n",
      "--------\n",
      "Train Loss                     : 2090.0412\n",
      "\n",
      "Highest Positive Coefficients\n",
      "-----------------------------\n",
      "prob_LC                        : 0.0025\n",
      "\n",
      "Lowest Negative Coefficients\n",
      "----------------------------\n",
      "(intercept)                    : -1.4834\n",
      "cons_gas_12m                   : -0.0\n",
      "\n"
     ]
    }
   ],
   "source": [
    "model_SVM.summary()"
   ]
  },
  {
   "cell_type": "markdown",
   "id": "c40f7604",
   "metadata": {},
   "source": [
    "# Conclusion\n",
    "\n",
    "***Observations:***<br>\n",
    "- Running the classifier, It has found two optimal algorithm:\n",
    "    - Logistical Classifier\n",
    "    - SVM\n",
    "- The LC achieved an accuracy of 90% and AUC of 64%.\n",
    "- The SVM achieved an accuracy of 91%.\n",
    "- My approach: Use the values predicted by Logistic_Classifier to use as feature in SVM_Classifier.\n",
    "- Accuracy of right shot is ~92%\n",
    "\n",
    "\n",
    "**Insight**:<br>\n",
    "- The consume variation showed to be a considerable weight in the predictions, not the price as the Managers thought it should be. Next analysis should ask for more historical consume behaviour.\n",
    "- The data presents to many gaps related to dates, the proportion of churn is not enough to build a unbiased algorithm and the current churn data do not present any relevant feature to distinguish them from the customers.\n",
    "- Inferencial Statistical is the most appropiate, so."
   ]
  }
 ],
 "metadata": {
  "kernelspec": {
   "display_name": "Python 3 (ipykernel)",
   "language": "python",
   "name": "python3"
  },
  "language_info": {
   "codemirror_mode": {
    "name": "ipython",
    "version": 3
   },
   "file_extension": ".py",
   "mimetype": "text/x-python",
   "name": "python",
   "nbconvert_exporter": "python",
   "pygments_lexer": "ipython3",
   "version": "3.9.7"
  }
 },
 "nbformat": 4,
 "nbformat_minor": 5
}
