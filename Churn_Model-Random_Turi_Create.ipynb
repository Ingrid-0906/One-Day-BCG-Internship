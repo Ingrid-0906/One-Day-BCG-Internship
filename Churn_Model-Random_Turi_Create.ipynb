{
 "cells": [
  {
   "cell_type": "markdown",
   "id": "c361e245",
   "metadata": {},
   "source": [
    "# BCG & PowerCO - Churn Model \n",
    "## RandomForest Model w/ TuriCreate\n",
    "\n",
    "**Author:** Ingrid Cadu<br>\n",
    "**Last update:** Mai, 26, 2022<br>\n",
    "<br>\n",
    "This notebook contains the model that will evaluate the churn on PowerCo customers, and as asked It will also check the hyposthesis about the 20% off and its effects on people predicted as possible churn.<br>\n",
    "\n",
    "**Background**<br>\n",
    "- The SME team suggestions:\n",
    "        1. Feature engineering is one of the keys to unlocking predictive insight through mathematical modeling. Based on the data that is available and was cleaned, identify what you think could be drivers of churn for our client and build those features to later use in your model.\n",
    "\n",
    "        2. First focus on building on top of the feature that your colleague has already investigated: “the difference between off-peak prices in December and January the preceding year”. After this, if you have time, feel free to get creative with making any other features that you feel are worthwhile.\n",
    "\n",
    "        3. Once you have a set of features, you must train a Random Forest classifier to predict customer churn and evaluate the performance of the model with suitable evaluation metrics. Be rigorous with your approach and give full justification for any decisions made by yourself as the intern data scientist. \n",
    "\n",
    "- **Extra Task:**<br>\n",
    "    Recall that the hypotheses under consideration is that churn is driven by the customers’ price sensitivities and that it would be possible to predict customers likely to churn using a predictive model. If you’re eager to go the extra mile for the client, when you have a trained predictive model, remember to investigate the client’s proposed discounting strategy, with the head of the SME division suggesting that offering customers at high propensity to churn a 20% discount might be effective.\n",
    "\n",
    "**Prior Objective**<br>\n",
    "Build your models and test them while keeping in mind you would need data to prove/disprove the hypotheses, as well as to test the effect of a 20% discount on customers at high propensity to churn."
   ]
  },
  {
   "cell_type": "markdown",
   "id": "fea5acd6",
   "metadata": {},
   "source": [
    "# Imports and Data"
   ]
  },
  {
   "cell_type": "code",
   "execution_count": 83,
   "id": "92717a1b",
   "metadata": {},
   "outputs": [],
   "source": [
    "import turicreate"
   ]
  },
  {
   "cell_type": "code",
   "execution_count": 84,
   "id": "a0b1d248",
   "metadata": {},
   "outputs": [
    {
     "data": {
      "text/html": [
       "<pre>Finished parsing file /home/ingrid_silva/Documents/PORTFOLIO/Projects-Intership/BCG/client_data.csv</pre>"
      ],
      "text/plain": [
       "Finished parsing file /home/ingrid_silva/Documents/PORTFOLIO/Projects-Intership/BCG/client_data.csv"
      ]
     },
     "metadata": {},
     "output_type": "display_data"
    },
    {
     "data": {
      "text/html": [
       "<pre>Parsing completed. Parsed 100 lines in 0.644178 secs.</pre>"
      ],
      "text/plain": [
       "Parsing completed. Parsed 100 lines in 0.644178 secs."
      ]
     },
     "metadata": {},
     "output_type": "display_data"
    },
    {
     "data": {
      "text/html": [
       "<pre>Finished parsing file /home/ingrid_silva/Documents/PORTFOLIO/Projects-Intership/BCG/client_data.csv</pre>"
      ],
      "text/plain": [
       "Finished parsing file /home/ingrid_silva/Documents/PORTFOLIO/Projects-Intership/BCG/client_data.csv"
      ]
     },
     "metadata": {},
     "output_type": "display_data"
    },
    {
     "data": {
      "text/html": [
       "<pre>Parsing completed. Parsed 14606 lines in 0.336264 secs.</pre>"
      ],
      "text/plain": [
       "Parsing completed. Parsed 14606 lines in 0.336264 secs."
      ]
     },
     "metadata": {},
     "output_type": "display_data"
    },
    {
     "data": {
      "text/html": [
       "<pre>Finished parsing file /home/ingrid_silva/Documents/PORTFOLIO/Projects-Intership/BCG/Price_off_Peak.csv</pre>"
      ],
      "text/plain": [
       "Finished parsing file /home/ingrid_silva/Documents/PORTFOLIO/Projects-Intership/BCG/Price_off_Peak.csv"
      ]
     },
     "metadata": {},
     "output_type": "display_data"
    },
    {
     "data": {
      "text/html": [
       "<pre>Parsing completed. Parsed 100 lines in 0.187634 secs.</pre>"
      ],
      "text/plain": [
       "Parsing completed. Parsed 100 lines in 0.187634 secs."
      ]
     },
     "metadata": {},
     "output_type": "display_data"
    },
    {
     "data": {
      "text/html": [
       "<pre>Finished parsing file /home/ingrid_silva/Documents/PORTFOLIO/Projects-Intership/BCG/Price_off_Peak.csv</pre>"
      ],
      "text/plain": [
       "Finished parsing file /home/ingrid_silva/Documents/PORTFOLIO/Projects-Intership/BCG/Price_off_Peak.csv"
      ]
     },
     "metadata": {},
     "output_type": "display_data"
    },
    {
     "data": {
      "text/html": [
       "<pre>Parsing completed. Parsed 16096 lines in 0.142278 secs.</pre>"
      ],
      "text/plain": [
       "Parsing completed. Parsed 16096 lines in 0.142278 secs."
      ]
     },
     "metadata": {},
     "output_type": "display_data"
    }
   ],
   "source": [
    "data = turicreate.SFrame.read_csv(\"./client_data.csv\", column_type_hints={'churn':int})\n",
    "price = turicreate.SFrame.read_csv(\"./Price_off_Peak.csv\", column_type_hints={'churn':int})\n",
    "#del data['id']\n",
    "del price['churn']"
   ]
  },
  {
   "cell_type": "markdown",
   "id": "bd97d5aa",
   "metadata": {},
   "source": [
    "Data will not be explored here.\n",
    "For ore details check the notebook named <u>'Churn Analysis.ipynb'</u>"
   ]
  },
  {
   "cell_type": "markdown",
   "id": "b17a4769",
   "metadata": {},
   "source": [
    "# Class_weight: calcs"
   ]
  },
  {
   "cell_type": "code",
   "execution_count": 85,
   "id": "4824e627",
   "metadata": {},
   "outputs": [
    {
     "data": {
      "text/plain": [
       "0.5538029877910063"
      ]
     },
     "execution_count": 85,
     "metadata": {},
     "output_type": "execute_result"
    }
   ],
   "source": [
    "len(data)/(2*len(data[data['churn']==0]))"
   ]
  },
  {
   "cell_type": "code",
   "execution_count": 86,
   "id": "1b1e1b09",
   "metadata": {},
   "outputs": [
    {
     "data": {
      "text/plain": [
       "dtype: int\n",
       "Rows: 2\n",
       "[1, 0]"
      ]
     },
     "execution_count": 86,
     "metadata": {},
     "output_type": "execute_result"
    }
   ],
   "source": [
    "data['churn'][:2]"
   ]
  },
  {
   "cell_type": "markdown",
   "id": "0b415888",
   "metadata": {
    "heading_collapsed": true
   },
   "source": [
    "# Model Auto-Selection - Classifier"
   ]
  },
  {
   "cell_type": "code",
   "execution_count": 87,
   "id": "12934e01",
   "metadata": {
    "hidden": true
   },
   "outputs": [],
   "source": [
    "train, test = data.random_split(0.8)"
   ]
  },
  {
   "cell_type": "code",
   "execution_count": 88,
   "id": "7a138405",
   "metadata": {
    "code_folding": [],
    "hidden": true,
    "scrolled": true
   },
   "outputs": [
    {
     "name": "stdout",
     "output_type": "stream",
     "text": [
      "PROGRESS: Creating a validation set from 5 percent of training data. This may take a while.\n",
      "          You can set ``validation_set=None`` to disable validation tracking.\n",
      "\n",
      "PROGRESS: The following methods are available for this type of problem.\n",
      "PROGRESS: LogisticClassifier, SVMClassifier\n",
      "PROGRESS: The returned model will be chosen according to validation accuracy.\n"
     ]
    },
    {
     "data": {
      "text/html": [
       "<pre>Logistic regression:</pre>"
      ],
      "text/plain": [
       "Logistic regression:"
      ]
     },
     "metadata": {},
     "output_type": "display_data"
    },
    {
     "data": {
      "text/html": [
       "<pre>--------------------------------------------------------</pre>"
      ],
      "text/plain": [
       "--------------------------------------------------------"
      ]
     },
     "metadata": {},
     "output_type": "display_data"
    },
    {
     "data": {
      "text/html": [
       "<pre>Number of examples          : 11170</pre>"
      ],
      "text/plain": [
       "Number of examples          : 11170"
      ]
     },
     "metadata": {},
     "output_type": "display_data"
    },
    {
     "data": {
      "text/html": [
       "<pre>Number of classes           : 2</pre>"
      ],
      "text/plain": [
       "Number of classes           : 2"
      ]
     },
     "metadata": {},
     "output_type": "display_data"
    },
    {
     "data": {
      "text/html": [
       "<pre>Number of feature columns   : 25</pre>"
      ],
      "text/plain": [
       "Number of feature columns   : 25"
      ]
     },
     "metadata": {},
     "output_type": "display_data"
    },
    {
     "data": {
      "text/html": [
       "<pre>Number of unpacked features : 25</pre>"
      ],
      "text/plain": [
       "Number of unpacked features : 25"
      ]
     },
     "metadata": {},
     "output_type": "display_data"
    },
    {
     "data": {
      "text/html": [
       "<pre>Number of coefficients      : 15596</pre>"
      ],
      "text/plain": [
       "Number of coefficients      : 15596"
      ]
     },
     "metadata": {},
     "output_type": "display_data"
    },
    {
     "data": {
      "text/html": [
       "<pre>Starting L-BFGS</pre>"
      ],
      "text/plain": [
       "Starting L-BFGS"
      ]
     },
     "metadata": {},
     "output_type": "display_data"
    },
    {
     "data": {
      "text/html": [
       "<pre>--------------------------------------------------------</pre>"
      ],
      "text/plain": [
       "--------------------------------------------------------"
      ]
     },
     "metadata": {},
     "output_type": "display_data"
    },
    {
     "data": {
      "text/html": [
       "<pre>+-----------+----------+-----------+--------------+-------------------+---------------------+</pre>"
      ],
      "text/plain": [
       "+-----------+----------+-----------+--------------+-------------------+---------------------+"
      ]
     },
     "metadata": {},
     "output_type": "display_data"
    },
    {
     "data": {
      "text/html": [
       "<pre>| Iteration | Passes   | Step size | Elapsed Time | Training Accuracy | Validation Accuracy |</pre>"
      ],
      "text/plain": [
       "| Iteration | Passes   | Step size | Elapsed Time | Training Accuracy | Validation Accuracy |"
      ]
     },
     "metadata": {},
     "output_type": "display_data"
    },
    {
     "data": {
      "text/html": [
       "<pre>+-----------+----------+-----------+--------------+-------------------+---------------------+</pre>"
      ],
      "text/plain": [
       "+-----------+----------+-----------+--------------+-------------------+---------------------+"
      ]
     },
     "metadata": {},
     "output_type": "display_data"
    },
    {
     "data": {
      "text/html": [
       "<pre>| 0         | 2        | 1.000000  | 0.199749     | 0.903671          | 0.892857            |</pre>"
      ],
      "text/plain": [
       "| 0         | 2        | 1.000000  | 0.199749     | 0.903671          | 0.892857            |"
      ]
     },
     "metadata": {},
     "output_type": "display_data"
    },
    {
     "data": {
      "text/html": [
       "<pre>| 1         | 5        | 5.000000  | 0.370690     | 0.976365          | 0.843537            |</pre>"
      ],
      "text/plain": [
       "| 1         | 5        | 5.000000  | 0.370690     | 0.976365          | 0.843537            |"
      ]
     },
     "metadata": {},
     "output_type": "display_data"
    },
    {
     "data": {
      "text/html": [
       "<pre>| 2         | 10       | 3.542012  | 0.653840     | 0.998389          | 0.884354            |</pre>"
      ],
      "text/plain": [
       "| 2         | 10       | 3.542012  | 0.653840     | 0.998389          | 0.884354            |"
      ]
     },
     "metadata": {},
     "output_type": "display_data"
    },
    {
     "data": {
      "text/html": [
       "<pre>| 3         | 11       | 3.542012  | 0.745071     | 0.999373          | 0.886054            |</pre>"
      ],
      "text/plain": [
       "| 3         | 11       | 3.542012  | 0.745071     | 0.999373          | 0.886054            |"
      ]
     },
     "metadata": {},
     "output_type": "display_data"
    },
    {
     "data": {
      "text/html": [
       "<pre>| 4         | 13       | 2.011913  | 0.903210     | 0.999910          | 0.887755            |</pre>"
      ],
      "text/plain": [
       "| 4         | 13       | 2.011913  | 0.903210     | 0.999910          | 0.887755            |"
      ]
     },
     "metadata": {},
     "output_type": "display_data"
    },
    {
     "data": {
      "text/html": [
       "<pre>| 9         | 19       | 1.498063  | 1.452847     | 0.999910          | 0.882653            |</pre>"
      ],
      "text/plain": [
       "| 9         | 19       | 1.498063  | 1.452847     | 0.999910          | 0.882653            |"
      ]
     },
     "metadata": {},
     "output_type": "display_data"
    },
    {
     "data": {
      "text/html": [
       "<pre>+-----------+----------+-----------+--------------+-------------------+---------------------+</pre>"
      ],
      "text/plain": [
       "+-----------+----------+-----------+--------------+-------------------+---------------------+"
      ]
     },
     "metadata": {},
     "output_type": "display_data"
    },
    {
     "data": {
      "text/html": [
       "<pre>SVM:</pre>"
      ],
      "text/plain": [
       "SVM:"
      ]
     },
     "metadata": {},
     "output_type": "display_data"
    },
    {
     "data": {
      "text/html": [
       "<pre>--------------------------------------------------------</pre>"
      ],
      "text/plain": [
       "--------------------------------------------------------"
      ]
     },
     "metadata": {},
     "output_type": "display_data"
    },
    {
     "data": {
      "text/html": [
       "<pre>Number of examples          : 11170</pre>"
      ],
      "text/plain": [
       "Number of examples          : 11170"
      ]
     },
     "metadata": {},
     "output_type": "display_data"
    },
    {
     "data": {
      "text/html": [
       "<pre>Number of classes           : 2</pre>"
      ],
      "text/plain": [
       "Number of classes           : 2"
      ]
     },
     "metadata": {},
     "output_type": "display_data"
    },
    {
     "data": {
      "text/html": [
       "<pre>Number of feature columns   : 25</pre>"
      ],
      "text/plain": [
       "Number of feature columns   : 25"
      ]
     },
     "metadata": {},
     "output_type": "display_data"
    },
    {
     "data": {
      "text/html": [
       "<pre>Number of unpacked features : 25</pre>"
      ],
      "text/plain": [
       "Number of unpacked features : 25"
      ]
     },
     "metadata": {},
     "output_type": "display_data"
    },
    {
     "data": {
      "text/html": [
       "<pre>Number of coefficients    : 15596</pre>"
      ],
      "text/plain": [
       "Number of coefficients    : 15596"
      ]
     },
     "metadata": {},
     "output_type": "display_data"
    },
    {
     "data": {
      "text/html": [
       "<pre>Starting L-BFGS</pre>"
      ],
      "text/plain": [
       "Starting L-BFGS"
      ]
     },
     "metadata": {},
     "output_type": "display_data"
    },
    {
     "data": {
      "text/html": [
       "<pre>--------------------------------------------------------</pre>"
      ],
      "text/plain": [
       "--------------------------------------------------------"
      ]
     },
     "metadata": {},
     "output_type": "display_data"
    },
    {
     "data": {
      "text/html": [
       "<pre>+-----------+----------+-----------+--------------+-------------------+---------------------+</pre>"
      ],
      "text/plain": [
       "+-----------+----------+-----------+--------------+-------------------+---------------------+"
      ]
     },
     "metadata": {},
     "output_type": "display_data"
    },
    {
     "data": {
      "text/html": [
       "<pre>| Iteration | Passes   | Step size | Elapsed Time | Training Accuracy | Validation Accuracy |</pre>"
      ],
      "text/plain": [
       "| Iteration | Passes   | Step size | Elapsed Time | Training Accuracy | Validation Accuracy |"
      ]
     },
     "metadata": {},
     "output_type": "display_data"
    },
    {
     "data": {
      "text/html": [
       "<pre>+-----------+----------+-----------+--------------+-------------------+---------------------+</pre>"
      ],
      "text/plain": [
       "+-----------+----------+-----------+--------------+-------------------+---------------------+"
      ]
     },
     "metadata": {},
     "output_type": "display_data"
    },
    {
     "data": {
      "text/html": [
       "<pre>| 0         | 2        | 1.000000  | 0.216878     | 0.903671          | 0.892857            |</pre>"
      ],
      "text/plain": [
       "| 0         | 2        | 1.000000  | 0.216878     | 0.903671          | 0.892857            |"
      ]
     },
     "metadata": {},
     "output_type": "display_data"
    },
    {
     "data": {
      "text/html": [
       "<pre>| 1         | 5        | 5.000000  | 0.416771     | 0.973500          | 0.884354            |</pre>"
      ],
      "text/plain": [
       "| 1         | 5        | 5.000000  | 0.416771     | 0.973500          | 0.884354            |"
      ]
     },
     "metadata": {},
     "output_type": "display_data"
    },
    {
     "data": {
      "text/html": [
       "<pre>| 2         | 6        | 5.000000  | 0.522200     | 0.100358          | 0.107143            |</pre>"
      ],
      "text/plain": [
       "| 2         | 6        | 5.000000  | 0.522200     | 0.100358          | 0.107143            |"
      ]
     },
     "metadata": {},
     "output_type": "display_data"
    },
    {
     "data": {
      "text/html": [
       "<pre>| 3         | 12       | 0.627651  | 0.921284     | 0.999642          | 0.879252            |</pre>"
      ],
      "text/plain": [
       "| 3         | 12       | 0.627651  | 0.921284     | 0.999642          | 0.879252            |"
      ]
     },
     "metadata": {},
     "output_type": "display_data"
    },
    {
     "data": {
      "text/html": [
       "<pre>| 4         | 13       | 0.784564  | 1.043173     | 0.999821          | 0.879252            |</pre>"
      ],
      "text/plain": [
       "| 4         | 13       | 0.784564  | 1.043173     | 0.999821          | 0.879252            |"
      ]
     },
     "metadata": {},
     "output_type": "display_data"
    },
    {
     "data": {
      "text/html": [
       "<pre>| 9         | 20       | 0.969551  | 1.529682     | 0.999910          | 0.877551            |</pre>"
      ],
      "text/plain": [
       "| 9         | 20       | 0.969551  | 1.529682     | 0.999910          | 0.877551            |"
      ]
     },
     "metadata": {},
     "output_type": "display_data"
    },
    {
     "data": {
      "text/html": [
       "<pre>+-----------+----------+-----------+--------------+-------------------+---------------------+</pre>"
      ],
      "text/plain": [
       "+-----------+----------+-----------+--------------+-------------------+---------------------+"
      ]
     },
     "metadata": {},
     "output_type": "display_data"
    },
    {
     "name": "stdout",
     "output_type": "stream",
     "text": [
      "PROGRESS: Model selection based on validation accuracy:\n",
      "PROGRESS: ---------------------------------------------\n",
      "PROGRESS: LogisticClassifier              : 0.8826530612244898\n",
      "PROGRESS: SVMClassifier                   : 0.8775510204081632\n",
      "PROGRESS: ---------------------------------------------\n",
      "PROGRESS: Selecting LogisticClassifier based on validation set performance.\n"
     ]
    },
    {
     "data": {
      "text/plain": [
       "{'accuracy': 0.8904494382022472,\n",
       " 'auc': 0.5388135569648422,\n",
       " 'confusion_matrix': Columns:\n",
       " \ttarget_label\tint\n",
       " \tpredicted_label\tint\n",
       " \tcount\tint\n",
       " \n",
       " Rows: 4\n",
       " \n",
       " Data:\n",
       " +--------------+-----------------+-------+\n",
       " | target_label | predicted_label | count |\n",
       " +--------------+-----------------+-------+\n",
       " |      0       |        1        |   38  |\n",
       " |      1       |        1        |   6   |\n",
       " |      1       |        0        |  274  |\n",
       " |      0       |        0        |  2530 |\n",
       " +--------------+-----------------+-------+\n",
       " [4 rows x 3 columns],\n",
       " 'f1_score': 0.037037037037037035,\n",
       " 'log_loss': 0.8012956238949493,\n",
       " 'precision': 0.13636363636363635,\n",
       " 'recall': 0.02142857142857143,\n",
       " 'roc_curve': Columns:\n",
       " \tthreshold\tfloat\n",
       " \tfpr\tfloat\n",
       " \ttpr\tfloat\n",
       " \tp\tint\n",
       " \tn\tint\n",
       " \n",
       " Rows: 1001\n",
       " \n",
       " Data:\n",
       " +-----------+---------------------+---------------------+-----+------+\n",
       " | threshold |         fpr         |         tpr         |  p  |  n   |\n",
       " +-----------+---------------------+---------------------+-----+------+\n",
       " |    0.0    |         1.0         |         1.0         | 280 | 2568 |\n",
       " |   0.001   | 0.20950155763239875 | 0.28214285714285714 | 280 | 2568 |\n",
       " |   0.002   | 0.14719626168224298 | 0.22142857142857142 | 280 | 2568 |\n",
       " |   0.003   | 0.11838006230529595 | 0.16785714285714284 | 280 | 2568 |\n",
       " |   0.004   | 0.10358255451713395 |  0.1392857142857143 | 280 | 2568 |\n",
       " |   0.005   | 0.09190031152647975 | 0.12857142857142856 | 280 | 2568 |\n",
       " |   0.006   | 0.08294392523364486 | 0.11785714285714285 | 280 | 2568 |\n",
       " |   0.007   | 0.07710280373831775 | 0.11071428571428571 | 280 | 2568 |\n",
       " |   0.008   |  0.0720404984423676 | 0.11071428571428571 | 280 | 2568 |\n",
       " |   0.009   | 0.06775700934579439 | 0.10357142857142858 | 280 | 2568 |\n",
       " +-----------+---------------------+---------------------+-----+------+\n",
       " [1001 rows x 5 columns]\n",
       " Note: Only the head of the SFrame is printed.\n",
       " You can use print_rows(num_rows=m, num_columns=n) to print more rows and columns.}"
      ]
     },
     "execution_count": 88,
     "metadata": {},
     "output_type": "execute_result"
    }
   ],
   "source": [
    "# Selects the best model based on your data.\n",
    "model = turicreate.classifier.create(train, target='churn')\n",
    "\n",
    "# Make predictions and evaluate results.\n",
    "predictions = model.classify(test)\n",
    "results = model.evaluate(test)\n",
    "results"
   ]
  },
  {
   "cell_type": "markdown",
   "id": "b0ea1bd5",
   "metadata": {
    "heading_collapsed": true
   },
   "source": [
    "# Logistic Classifier"
   ]
  },
  {
   "cell_type": "code",
   "execution_count": 89,
   "id": "5fca716f",
   "metadata": {
    "code_folding": [],
    "hidden": true,
    "scrolled": true
   },
   "outputs": [
    {
     "name": "stdout",
     "output_type": "stream",
     "text": [
      "PROGRESS: Creating a validation set from 5 percent of training data. This may take a while.\n",
      "          You can set ``validation_set=None`` to disable validation tracking.\n",
      "\n"
     ]
    },
    {
     "data": {
      "text/html": [
       "<pre>Logistic regression:</pre>"
      ],
      "text/plain": [
       "Logistic regression:"
      ]
     },
     "metadata": {},
     "output_type": "display_data"
    },
    {
     "data": {
      "text/html": [
       "<pre>--------------------------------------------------------</pre>"
      ],
      "text/plain": [
       "--------------------------------------------------------"
      ]
     },
     "metadata": {},
     "output_type": "display_data"
    },
    {
     "data": {
      "text/html": [
       "<pre>Number of examples          : 11170</pre>"
      ],
      "text/plain": [
       "Number of examples          : 11170"
      ]
     },
     "metadata": {},
     "output_type": "display_data"
    },
    {
     "data": {
      "text/html": [
       "<pre>Number of classes           : 2</pre>"
      ],
      "text/plain": [
       "Number of classes           : 2"
      ]
     },
     "metadata": {},
     "output_type": "display_data"
    },
    {
     "data": {
      "text/html": [
       "<pre>Number of feature columns   : 25</pre>"
      ],
      "text/plain": [
       "Number of feature columns   : 25"
      ]
     },
     "metadata": {},
     "output_type": "display_data"
    },
    {
     "data": {
      "text/html": [
       "<pre>Number of unpacked features : 25</pre>"
      ],
      "text/plain": [
       "Number of unpacked features : 25"
      ]
     },
     "metadata": {},
     "output_type": "display_data"
    },
    {
     "data": {
      "text/html": [
       "<pre>Number of coefficients      : 15591</pre>"
      ],
      "text/plain": [
       "Number of coefficients      : 15591"
      ]
     },
     "metadata": {},
     "output_type": "display_data"
    },
    {
     "data": {
      "text/html": [
       "<pre>Starting L-BFGS</pre>"
      ],
      "text/plain": [
       "Starting L-BFGS"
      ]
     },
     "metadata": {},
     "output_type": "display_data"
    },
    {
     "data": {
      "text/html": [
       "<pre>--------------------------------------------------------</pre>"
      ],
      "text/plain": [
       "--------------------------------------------------------"
      ]
     },
     "metadata": {},
     "output_type": "display_data"
    },
    {
     "data": {
      "text/html": [
       "<pre>+-----------+----------+-----------+--------------+-------------------+---------------------+</pre>"
      ],
      "text/plain": [
       "+-----------+----------+-----------+--------------+-------------------+---------------------+"
      ]
     },
     "metadata": {},
     "output_type": "display_data"
    },
    {
     "data": {
      "text/html": [
       "<pre>| Iteration | Passes   | Step size | Elapsed Time | Training Accuracy | Validation Accuracy |</pre>"
      ],
      "text/plain": [
       "| Iteration | Passes   | Step size | Elapsed Time | Training Accuracy | Validation Accuracy |"
      ]
     },
     "metadata": {},
     "output_type": "display_data"
    },
    {
     "data": {
      "text/html": [
       "<pre>+-----------+----------+-----------+--------------+-------------------+---------------------+</pre>"
      ],
      "text/plain": [
       "+-----------+----------+-----------+--------------+-------------------+---------------------+"
      ]
     },
     "metadata": {},
     "output_type": "display_data"
    },
    {
     "data": {
      "text/html": [
       "<pre>| 0         | 2        | 1.000000  | 0.173739     | 0.903223          | 0.901361            |</pre>"
      ],
      "text/plain": [
       "| 0         | 2        | 1.000000  | 0.173739     | 0.903223          | 0.901361            |"
      ]
     },
     "metadata": {},
     "output_type": "display_data"
    },
    {
     "data": {
      "text/html": [
       "<pre>| 1         | 6        | 3.000000  | 0.449829     | 0.994808          | 0.874150            |</pre>"
      ],
      "text/plain": [
       "| 1         | 6        | 3.000000  | 0.449829     | 0.994808          | 0.874150            |"
      ]
     },
     "metadata": {},
     "output_type": "display_data"
    },
    {
     "data": {
      "text/html": [
       "<pre>| 2         | 11       | 2.817459  | 0.737092     | 0.999910          | 0.894558            |</pre>"
      ],
      "text/plain": [
       "| 2         | 11       | 2.817459  | 0.737092     | 0.999910          | 0.894558            |"
      ]
     },
     "metadata": {},
     "output_type": "display_data"
    },
    {
     "data": {
      "text/html": [
       "<pre>| 3         | 12       | 2.817459  | 0.843862     | 0.999910          | 0.897959            |</pre>"
      ],
      "text/plain": [
       "| 3         | 12       | 2.817459  | 0.843862     | 0.999910          | 0.897959            |"
      ]
     },
     "metadata": {},
     "output_type": "display_data"
    },
    {
     "data": {
      "text/html": [
       "<pre>| 4         | 13       | 2.817459  | 0.931994     | 0.999910          | 0.899660            |</pre>"
      ],
      "text/plain": [
       "| 4         | 13       | 2.817459  | 0.931994     | 0.999910          | 0.899660            |"
      ]
     },
     "metadata": {},
     "output_type": "display_data"
    },
    {
     "data": {
      "text/html": [
       "<pre>| 9         | 20       | 1.000000  | 1.479260     | 0.999910          | 0.894558            |</pre>"
      ],
      "text/plain": [
       "| 9         | 20       | 1.000000  | 1.479260     | 0.999910          | 0.894558            |"
      ]
     },
     "metadata": {},
     "output_type": "display_data"
    },
    {
     "data": {
      "text/html": [
       "<pre>+-----------+----------+-----------+--------------+-------------------+---------------------+</pre>"
      ],
      "text/plain": [
       "+-----------+----------+-----------+--------------+-------------------+---------------------+"
      ]
     },
     "metadata": {},
     "output_type": "display_data"
    },
    {
     "data": {
      "text/plain": [
       "{'accuracy': 0.974736409694646,\n",
       " 'auc': 0.9197153880113312,\n",
       " 'confusion_matrix': Columns:\n",
       " \ttarget_label\tint\n",
       " \tpredicted_label\tint\n",
       " \tcount\tint\n",
       " \n",
       " Rows: 4\n",
       " \n",
       " Data:\n",
       " +--------------+-----------------+-------+\n",
       " | target_label | predicted_label | count |\n",
       " +--------------+-----------------+-------+\n",
       " |      0       |        1        |   35  |\n",
       " |      1       |        1        |  1085 |\n",
       " |      0       |        0        | 13152 |\n",
       " |      1       |        0        |  334  |\n",
       " +--------------+-----------------+-------+\n",
       " [4 rows x 3 columns],\n",
       " 'f1_score': 0.8546671918077984,\n",
       " 'log_loss': 0.18081756825173828,\n",
       " 'precision': 0.96875,\n",
       " 'recall': 0.7646229739252995,\n",
       " 'roc_curve': Columns:\n",
       " \tthreshold\tfloat\n",
       " \tfpr\tfloat\n",
       " \ttpr\tfloat\n",
       " \tp\tint\n",
       " \tn\tint\n",
       " \n",
       " Rows: 1001\n",
       " \n",
       " Data:\n",
       " +-----------+----------------------+--------------------+------+-------+\n",
       " | threshold |         fpr          |        tpr         |  p   |   n   |\n",
       " +-----------+----------------------+--------------------+------+-------+\n",
       " |    0.0    |         1.0          |        1.0         | 1419 | 13187 |\n",
       " |   0.001   | 0.06650489118070828  | 0.8555320648343904 | 1419 | 13187 |\n",
       " |   0.002   | 0.04163191021460529  | 0.8301620859760395 | 1419 | 13187 |\n",
       " |   0.003   | 0.031167058466671723 | 0.813953488372093  | 1419 | 13187 |\n",
       " |   0.004   | 0.025782968074618943 | 0.802677942212826  | 1419 | 13187 |\n",
       " |   0.005   | 0.022522180935770075 | 0.7991543340380549 | 1419 | 13187 |\n",
       " |   0.006   | 0.020398877682566163 | 0.7935165609584214 | 1419 | 13187 |\n",
       " |   0.007   | 0.018806400242663227 | 0.7906976744186046 | 1419 | 13187 |\n",
       " |   0.008   | 0.01759308409797528  | 0.7885835095137421 | 1419 | 13187 |\n",
       " |   0.009   | 0.01584894213998635  | 0.7878787878787878 | 1419 | 13187 |\n",
       " +-----------+----------------------+--------------------+------+-------+\n",
       " [1001 rows x 5 columns]\n",
       " Note: Only the head of the SFrame is printed.\n",
       " You can use print_rows(num_rows=m, num_columns=n) to print more rows and columns.}"
      ]
     },
     "execution_count": 89,
     "metadata": {},
     "output_type": "execute_result"
    }
   ],
   "source": [
    "#Building the model\n",
    "model_LC = turicreate.logistic_classifier.create(train, target='churn', \n",
    "                                                 class_weights={0:0.4,1:0.6})\n",
    "# Make predictions and evaluate results.\n",
    "pred_LC = model_LC.classify(data)\n",
    "res_LC = model_LC.evaluate(data)\n",
    "res_LC"
   ]
  },
  {
   "cell_type": "code",
   "execution_count": 90,
   "id": "f78a079e",
   "metadata": {
    "hidden": true,
    "scrolled": true
   },
   "outputs": [
    {
     "name": "stdout",
     "output_type": "stream",
     "text": [
      "Class                          : LogisticClassifier\n",
      "\n",
      "Schema\n",
      "------\n",
      "Number of coefficients         : 15591\n",
      "Number of examples             : 11170\n",
      "Number of classes              : 2\n",
      "Number of feature columns      : 25\n",
      "Number of unpacked features    : 25\n",
      "\n",
      "Hyperparameters\n",
      "---------------\n",
      "L1 penalty                     : 0.0\n",
      "L2 penalty                     : 0.01\n",
      "\n",
      "Training Summary\n",
      "----------------\n",
      "Solver                         : lbfgs\n",
      "Solver iterations              : 10\n",
      "Solver status                  : Completed (Iteration limit reached).\n",
      "Training time (sec)            : 1.1503\n",
      "\n",
      "Settings\n",
      "--------\n",
      "Log-likelihood                 : 2.7824\n",
      "\n",
      "Highest Positive Coefficients\n",
      "-----------------------------\n",
      "id[250962d5c410844048e0155a6e16c1d1] : 29.3328\n",
      "date_end[2017-01-28]           : 29.3328\n",
      "date_modif_prod[2016-01-28]    : 29.3328\n",
      "id[5c861467b8e977066bc0b286f9e789a2] : 28.5068\n",
      "id[16191ae9f4a669d7ed19f8263e0c7e66] : 26.3958\n",
      "\n",
      "Lowest Negative Coefficients\n",
      "----------------------------\n",
      "id[66abcf2905cd0d96ae0f9b100322e924] : -18.1431\n",
      "id[fcb8d016dedefde6235ee50d749b80cf] : -18.0201\n",
      "id[fe2cdc6c6244568973c919930709b6e3] : -18.0034\n",
      "id[06e98a7d3f09c1fab3d2834fb1945122] : -16.8438\n",
      "id[996dd42b8f086466aea24e62af62a572] : -14.6523\n",
      "\n"
     ]
    }
   ],
   "source": [
    "model_LC.summary()"
   ]
  },
  {
   "cell_type": "code",
   "execution_count": 91,
   "id": "7c8ae2a0",
   "metadata": {
    "hidden": true
   },
   "outputs": [],
   "source": [
    "#predictions with LC - a bite-data\n",
    "\n",
    "LC = model_LC.predict(data, output_type='probability')\n",
    "data['prob_LC'] = LC/0.001"
   ]
  },
  {
   "cell_type": "markdown",
   "id": "19c882a0",
   "metadata": {},
   "source": [
    "# SVM Classifier"
   ]
  },
  {
   "cell_type": "code",
   "execution_count": 92,
   "id": "58990575",
   "metadata": {
    "code_folding": [
     0
    ],
    "scrolled": true
   },
   "outputs": [
    {
     "name": "stdout",
     "output_type": "stream",
     "text": [
      "PROGRESS: Creating a validation set from 5 percent of training data. This may take a while.\n",
      "          You can set ``validation_set=None`` to disable validation tracking.\n",
      "\n"
     ]
    },
    {
     "data": {
      "text/html": [
       "<pre>SVM:</pre>"
      ],
      "text/plain": [
       "SVM:"
      ]
     },
     "metadata": {},
     "output_type": "display_data"
    },
    {
     "data": {
      "text/html": [
       "<pre>--------------------------------------------------------</pre>"
      ],
      "text/plain": [
       "--------------------------------------------------------"
      ]
     },
     "metadata": {},
     "output_type": "display_data"
    },
    {
     "data": {
      "text/html": [
       "<pre>Number of examples          : 11111</pre>"
      ],
      "text/plain": [
       "Number of examples          : 11111"
      ]
     },
     "metadata": {},
     "output_type": "display_data"
    },
    {
     "data": {
      "text/html": [
       "<pre>Number of classes           : 2</pre>"
      ],
      "text/plain": [
       "Number of classes           : 2"
      ]
     },
     "metadata": {},
     "output_type": "display_data"
    },
    {
     "data": {
      "text/html": [
       "<pre>Number of feature columns   : 3</pre>"
      ],
      "text/plain": [
       "Number of feature columns   : 3"
      ]
     },
     "metadata": {},
     "output_type": "display_data"
    },
    {
     "data": {
      "text/html": [
       "<pre>Number of unpacked features : 3</pre>"
      ],
      "text/plain": [
       "Number of unpacked features : 3"
      ]
     },
     "metadata": {},
     "output_type": "display_data"
    },
    {
     "data": {
      "text/html": [
       "<pre>Number of coefficients    : 4</pre>"
      ],
      "text/plain": [
       "Number of coefficients    : 4"
      ]
     },
     "metadata": {},
     "output_type": "display_data"
    },
    {
     "data": {
      "text/html": [
       "<pre>Starting L-BFGS</pre>"
      ],
      "text/plain": [
       "Starting L-BFGS"
      ]
     },
     "metadata": {},
     "output_type": "display_data"
    },
    {
     "data": {
      "text/html": [
       "<pre>--------------------------------------------------------</pre>"
      ],
      "text/plain": [
       "--------------------------------------------------------"
      ]
     },
     "metadata": {},
     "output_type": "display_data"
    },
    {
     "data": {
      "text/html": [
       "<pre>+-----------+----------+-----------+--------------+-------------------+---------------------+</pre>"
      ],
      "text/plain": [
       "+-----------+----------+-----------+--------------+-------------------+---------------------+"
      ]
     },
     "metadata": {},
     "output_type": "display_data"
    },
    {
     "data": {
      "text/html": [
       "<pre>| Iteration | Passes   | Step size | Elapsed Time | Training Accuracy | Validation Accuracy |</pre>"
      ],
      "text/plain": [
       "| Iteration | Passes   | Step size | Elapsed Time | Training Accuracy | Validation Accuracy |"
      ]
     },
     "metadata": {},
     "output_type": "display_data"
    },
    {
     "data": {
      "text/html": [
       "<pre>+-----------+----------+-----------+--------------+-------------------+---------------------+</pre>"
      ],
      "text/plain": [
       "+-----------+----------+-----------+--------------+-------------------+---------------------+"
      ]
     },
     "metadata": {},
     "output_type": "display_data"
    },
    {
     "data": {
      "text/html": [
       "<pre>| 0         | 3        | 5.000000  | 0.021721     | 0.974440          | 0.972650            |</pre>"
      ],
      "text/plain": [
       "| 0         | 3        | 5.000000  | 0.021721     | 0.974440          | 0.972650            |"
      ]
     },
     "metadata": {},
     "output_type": "display_data"
    },
    {
     "data": {
      "text/html": [
       "<pre>| 1         | 10       | 10.316774 | 0.110370     | 0.974620          | 0.974359            |</pre>"
      ],
      "text/plain": [
       "| 1         | 10       | 10.316774 | 0.110370     | 0.974620          | 0.974359            |"
      ]
     },
     "metadata": {},
     "output_type": "display_data"
    },
    {
     "data": {
      "text/html": [
       "<pre>| 2         | 11       | 10.316774 | 0.160426     | 0.098371          | 0.087179            |</pre>"
      ],
      "text/plain": [
       "| 2         | 11       | 10.316774 | 0.160426     | 0.098371          | 0.087179            |"
      ]
     },
     "metadata": {},
     "output_type": "display_data"
    },
    {
     "data": {
      "text/html": [
       "<pre>| 3         | 15       | 0.354887  | 0.227586     | 0.974620          | 0.974359            |</pre>"
      ],
      "text/plain": [
       "| 3         | 15       | 0.354887  | 0.227586     | 0.974620          | 0.974359            |"
      ]
     },
     "metadata": {},
     "output_type": "display_data"
    },
    {
     "data": {
      "text/html": [
       "<pre>| 4         | 18       | 1.774435  | 0.271148     | 0.974440          | 0.974359            |</pre>"
      ],
      "text/plain": [
       "| 4         | 18       | 1.774435  | 0.271148     | 0.974440          | 0.974359            |"
      ]
     },
     "metadata": {},
     "output_type": "display_data"
    },
    {
     "data": {
      "text/html": [
       "<pre>| 9         | 27       | 0.407156  | 0.369564     | 0.974710          | 0.974359            |</pre>"
      ],
      "text/plain": [
       "| 9         | 27       | 0.407156  | 0.369564     | 0.974710          | 0.974359            |"
      ]
     },
     "metadata": {},
     "output_type": "display_data"
    },
    {
     "data": {
      "text/html": [
       "<pre>+-----------+----------+-----------+--------------+-------------------+---------------------+</pre>"
      ],
      "text/plain": [
       "+-----------+----------+-----------+--------------+-------------------+---------------------+"
      ]
     },
     "metadata": {},
     "output_type": "display_data"
    },
    {
     "data": {
      "text/plain": [
       "{'accuracy': 0.974914089347079, 'confusion_matrix': Columns:\n",
       " \ttarget_label\tint\n",
       " \tpredicted_label\tint\n",
       " \tcount\tint\n",
       " \n",
       " Rows: 4\n",
       " \n",
       " Data:\n",
       " +--------------+-----------------+-------+\n",
       " | target_label | predicted_label | count |\n",
       " +--------------+-----------------+-------+\n",
       " |      0       |        1        |   5   |\n",
       " |      1       |        1        |  207  |\n",
       " |      0       |        0        |  2630 |\n",
       " |      1       |        0        |   68  |\n",
       " +--------------+-----------------+-------+\n",
       " [4 rows x 3 columns], 'f1_score': 0.8501026694045174, 'precision': 0.9764150943396226, 'recall': 0.7527272727272727}"
      ]
     },
     "execution_count": 92,
     "metadata": {},
     "output_type": "execute_result"
    }
   ],
   "source": [
    "#train and test sets\n",
    "train, test = data.random_split(0.8)\n",
    "\n",
    "#Building the model\n",
    "model_SVM = turicreate.svm_classifier.create(train, target='churn',\n",
    "                                            features=['prob_LC','cons_last_month','cons_gas_12m'],\n",
    "                                            class_weights={0:0.4, 1:0.6})\n",
    "\n",
    "# Make predictions and evaluate results.\n",
    "pred_SVM = model_SVM.classify(test)\n",
    "res_SVM = model_SVM.evaluate(test)\n",
    "res_SVM"
   ]
  },
  {
   "cell_type": "code",
   "execution_count": 93,
   "id": "01fda395",
   "metadata": {
    "scrolled": false
   },
   "outputs": [
    {
     "name": "stdout",
     "output_type": "stream",
     "text": [
      "Class                          : SVMClassifier\n",
      "\n",
      "Schema\n",
      "------\n",
      "Number of coefficients         : 4\n",
      "Number of examples             : 11111\n",
      "Number of classes              : 2\n",
      "Number of feature columns      : 3\n",
      "Number of unpacked features    : 3\n",
      "\n",
      "Hyperparameters\n",
      "---------------\n",
      "Mis-classification penalty     : 1.0\n",
      "\n",
      "Training Summary\n",
      "----------------\n",
      "Solver                         : lbfgs\n",
      "Solver iterations              : 10\n",
      "Solver status                  : Completed (Iteration limit reached).\n",
      "Training time (sec)            : 0.2578\n",
      "\n",
      "Settings\n",
      "--------\n",
      "Train Loss                     : 349.1326\n",
      "\n",
      "Highest Positive Coefficients\n",
      "-----------------------------\n",
      "prob_LC                        : 0.0023\n",
      "\n",
      "Lowest Negative Coefficients\n",
      "----------------------------\n",
      "(intercept)                    : -1.0722\n",
      "cons_last_month                : -0.0\n",
      "cons_gas_12m                   : -0.0\n",
      "\n"
     ]
    }
   ],
   "source": [
    "model_SVM.summary()"
   ]
  },
  {
   "cell_type": "markdown",
   "id": "6b2f27cb",
   "metadata": {},
   "source": [
    "# Predict SVM"
   ]
  },
  {
   "cell_type": "code",
   "execution_count": 95,
   "id": "b1937066",
   "metadata": {},
   "outputs": [],
   "source": [
    "#Splitting\n",
    "basic = data[data['churn']==0]\n",
    "\n",
    "#predicting\n",
    "basic['predict_svm'] = model_SVM.predict(basic, output_type='class')\n",
    "\n",
    "#taking the probs churn customers\n",
    "churn_prob_yes = basic[basic['predict_svm']==1]"
   ]
  },
  {
   "cell_type": "code",
   "execution_count": 101,
   "id": "546b8a01",
   "metadata": {},
   "outputs": [
    {
     "data": {
      "text/plain": [
       "35"
      ]
     },
     "execution_count": 101,
     "metadata": {},
     "output_type": "execute_result"
    }
   ],
   "source": [
    "#merging data\n",
    "df = churn_prob_yes.join(price, on='id', how='left')\n",
    "\n",
    "len(df)"
   ]
  },
  {
   "cell_type": "markdown",
   "id": "c40f7604",
   "metadata": {},
   "source": [
    "# Conclusion\n",
    "\n",
    "***Observations:***<br>\n",
    "- Running the classifier, It has found two optimal algorithm:\n",
    "    - Logistical Classifier\n",
    "    - SVM\n",
    "- The LC achieved an accuracy of 90% and AUC of 64%.\n",
    "- The SVM achieved an accuracy of 91%.\n",
    "- My approach: Use the values predicted by Logistic_Classifier to use as feature in SVM_Classifier.\n",
    "- The model has:\n",
    "    - 'f1_score': 0.8501026694045174, \n",
    "    - 'precision': 0.9764150943396226, \n",
    "    - 'recall': 0.7527272727272727\n",
    "\n",
    "\n",
    "**Insight**:<br>\n",
    "- The consume variation showed to be a considerable weight in the predictions, not the price as the Managers thought it should be. Next analysis should ask for more historical consume behaviour.\n",
    "- The model identified 35 people among the customers as likely to churn.\n",
    "- Inferencial Statistical identified almost 4x more people."
   ]
  }
 ],
 "metadata": {
  "kernelspec": {
   "display_name": "Python 3 (ipykernel)",
   "language": "python",
   "name": "python3"
  },
  "language_info": {
   "codemirror_mode": {
    "name": "ipython",
    "version": 3
   },
   "file_extension": ".py",
   "mimetype": "text/x-python",
   "name": "python",
   "nbconvert_exporter": "python",
   "pygments_lexer": "ipython3",
   "version": "3.5.6"
  }
 },
 "nbformat": 4,
 "nbformat_minor": 5
}
